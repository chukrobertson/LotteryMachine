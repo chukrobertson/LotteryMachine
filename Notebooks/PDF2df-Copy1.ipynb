{
 "cells": [
  {
   "cell_type": "code",
   "execution_count": null,
   "metadata": {},
   "outputs": [],
   "source": [
    "# Install a pip package in the current Jupyter kernel\n",
    "import sys\n",
    "# !{sys.executable} -m pip install tabula-py"
   ]
  },
  {
   "cell_type": "code",
   "execution_count": 9,
   "metadata": {},
   "outputs": [],
   "source": [
    "import tabula\n",
    "import numpy as np\n",
    "import pandas as pd"
   ]
  },
  {
   "cell_type": "code",
   "execution_count": 14,
   "metadata": {},
   "outputs": [],
   "source": [
    "# Path to the PDF to be read in\n",
    "inPDF_Path = \"../LottoData/UnprocessedData/PDFs/numbers2006.pdf\""
   ]
  },
  {
   "cell_type": "code",
   "execution_count": 15,
   "metadata": {},
   "outputs": [
    {
     "name": "stderr",
     "output_type": "stream",
     "text": [
      "Got stderr: Feb 13, 2020 8:24:00 PM org.apache.pdfbox.pdmodel.graphics.color.PDICCBased ensureDisplayProfile\n",
      "WARNING: ICC profile is Perceptual, ignoring, treating as Display class\n",
      "Feb 13, 2020 8:24:00 PM org.apache.pdfbox.pdmodel.graphics.color.PDICCBased ensureDisplayProfile\n",
      "WARNING: ICC profile is Perceptual, ignoring, treating as Display class\n",
      "Feb 13, 2020 8:24:01 PM org.apache.pdfbox.pdmodel.graphics.color.PDICCBased ensureDisplayProfile\n",
      "WARNING: ICC profile is Perceptual, ignoring, treating as Display class\n",
      "Feb 13, 2020 8:24:01 PM org.apache.pdfbox.pdmodel.graphics.color.PDICCBased ensureDisplayProfile\n",
      "WARNING: ICC profile is Perceptual, ignoring, treating as Display class\n",
      "Feb 13, 2020 8:24:02 PM org.apache.pdfbox.pdmodel.graphics.color.PDICCBased ensureDisplayProfile\n",
      "WARNING: ICC profile is Perceptual, ignoring, treating as Display class\n",
      "Feb 13, 2020 8:24:02 PM org.apache.pdfbox.pdmodel.graphics.color.PDICCBased ensureDisplayProfile\n",
      "WARNING: ICC profile is Perceptual, ignoring, treating as Display class\n",
      "\n"
     ]
    },
    {
     "data": {
      "text/html": [
       "<div>\n",
       "<style scoped>\n",
       "    .dataframe tbody tr th:only-of-type {\n",
       "        vertical-align: middle;\n",
       "    }\n",
       "\n",
       "    .dataframe tbody tr th {\n",
       "        vertical-align: top;\n",
       "    }\n",
       "\n",
       "    .dataframe thead th {\n",
       "        text-align: right;\n",
       "    }\n",
       "</style>\n",
       "<table border=\"1\" class=\"dataframe\">\n",
       "  <thead>\n",
       "    <tr style=\"text-align: right;\">\n",
       "      <th></th>\n",
       "      <th>Unnamed: 0</th>\n",
       "      <th>Unnamed: 1</th>\n",
       "      <th>Unnamed: 2</th>\n",
       "      <th>Ohio Lottery Commission • An Equal Opportunity Employer</th>\n",
       "    </tr>\n",
       "  </thead>\n",
       "  <tbody>\n",
       "    <tr>\n",
       "      <th>0</th>\n",
       "      <td>NaN</td>\n",
       "      <td>WINNING NUMBERS - 1/1/2006 TO 12/31/2006</td>\n",
       "      <td>NaN</td>\n",
       "      <td>Bob Taft, Governor • Tom Hayes, Director</td>\n",
       "    </tr>\n",
       "    <tr>\n",
       "      <th>1</th>\n",
       "      <td>NaN</td>\n",
       "      <td>NaN</td>\n",
       "      <td>NaN</td>\n",
       "      <td>Winning Tickets are Valid for 180 Days • Pleas...</td>\n",
       "    </tr>\n",
       "    <tr>\n",
       "      <th>2</th>\n",
       "      <td>NaN</td>\n",
       "      <td>Pick Pick Jackpot/</td>\n",
       "      <td>Pick</td>\n",
       "      <td>Pick Jackpot/</td>\n",
       "    </tr>\n",
       "    <tr>\n",
       "      <th>3</th>\n",
       "      <td>Draw</td>\n",
       "      <td>3 4 Lot ‘O Play # of winners Kicker Rolling Ca...</td>\n",
       "      <td>3</td>\n",
       "      <td>4 Lot ‘O Play # of winners Kicker Rolling Cash 5</td>\n",
       "    </tr>\n",
       "    <tr>\n",
       "      <th>4</th>\n",
       "      <td>Mega Millions1/2</td>\n",
       "      <td>2/14 922 4010</td>\n",
       "      <td>543</td>\n",
       "      <td>6574</td>\n",
       "    </tr>\n",
       "  </tbody>\n",
       "</table>\n",
       "</div>"
      ],
      "text/plain": [
       "         Unnamed: 0                                         Unnamed: 1  \\\n",
       "0               NaN           WINNING NUMBERS - 1/1/2006 TO 12/31/2006   \n",
       "1               NaN                                                NaN   \n",
       "2               NaN                                 Pick Pick Jackpot/   \n",
       "3              Draw  3 4 Lot ‘O Play # of winners Kicker Rolling Ca...   \n",
       "4  Mega Millions1/2                                      2/14 922 4010   \n",
       "\n",
       "  Unnamed: 2 Ohio Lottery Commission • An Equal Opportunity Employer  \n",
       "0        NaN           Bob Taft, Governor • Tom Hayes, Director       \n",
       "1        NaN  Winning Tickets are Valid for 180 Days • Pleas...       \n",
       "2       Pick                                      Pick Jackpot/       \n",
       "3          3   4 Lot ‘O Play # of winners Kicker Rolling Cash 5       \n",
       "4        543                                               6574       "
      ]
     },
     "execution_count": 15,
     "metadata": {},
     "output_type": "execute_result"
    }
   ],
   "source": [
    "# Reading the PDF into a list\n",
    "pdf = tabula.read_pdf(inPDF_Path, encoding='utf-8', pages='all', stream=False)[0]\n",
    "# Converting list to dataframe\n",
    "df = pd.DataFrame(pdf) \n",
    "df.head()\n",
    "# Looks like pdfs below 2010 are going to be harder to use"
   ]
  },
  {
   "cell_type": "code",
   "execution_count": 9,
   "metadata": {},
   "outputs": [
    {
     "ename": "ValueError",
     "evalue": "Length mismatch: Expected axis has 5 elements, new values have 10 elements",
     "output_type": "error",
     "traceback": [
      "\u001b[0;31m---------------------------------------------------------------------------\u001b[0m",
      "\u001b[0;31mValueError\u001b[0m                                Traceback (most recent call last)",
      "\u001b[0;32m<ipython-input-9-1a6355f1e52f>\u001b[0m in \u001b[0;36m<module>\u001b[0;34m\u001b[0m\n\u001b[1;32m      1\u001b[0m \u001b[0;31m# Rename and drop uneeded columns for individual dataframes\u001b[0m\u001b[0;34m\u001b[0m\u001b[0;34m\u001b[0m\u001b[0;34m\u001b[0m\u001b[0m\n\u001b[0;32m----> 2\u001b[0;31m \u001b[0mdf\u001b[0m\u001b[0;34m.\u001b[0m\u001b[0mcolumns\u001b[0m \u001b[0;34m=\u001b[0m \u001b[0;34m[\u001b[0m\u001b[0;34m'Day_Draw'\u001b[0m\u001b[0;34m,\u001b[0m\u001b[0;34m'Date'\u001b[0m\u001b[0;34m,\u001b[0m\u001b[0;34m'Pick3'\u001b[0m\u001b[0;34m,\u001b[0m\u001b[0;34m'Pick4'\u001b[0m\u001b[0;34m,\u001b[0m\u001b[0;34m'Classic_Lotto'\u001b[0m\u001b[0;34m,\u001b[0m\u001b[0;34m'Rolling_Cash_5'\u001b[0m\u001b[0;34m,\u001b[0m\u001b[0;34m'Mega_Millions'\u001b[0m\u001b[0;34m,\u001b[0m\u001b[0;34m'Kicker'\u001b[0m\u001b[0;34m,\u001b[0m\u001b[0;34m'Powerball'\u001b[0m\u001b[0;34m,\u001b[0m\u001b[0;34m'Ten_OH'\u001b[0m\u001b[0;34m]\u001b[0m\u001b[0;34m\u001b[0m\u001b[0;34m\u001b[0m\u001b[0m\n\u001b[0m\u001b[1;32m      3\u001b[0m \u001b[0mdf\u001b[0m\u001b[0;34m.\u001b[0m\u001b[0mdrop\u001b[0m\u001b[0;34m(\u001b[0m\u001b[0;34m[\u001b[0m\u001b[0;34m'Pick4'\u001b[0m\u001b[0;34m,\u001b[0m\u001b[0;34m'Classic_Lotto'\u001b[0m\u001b[0;34m,\u001b[0m\u001b[0;34m'Rolling_Cash_5'\u001b[0m\u001b[0;34m,\u001b[0m\u001b[0;34m'Mega_Millions'\u001b[0m\u001b[0;34m,\u001b[0m\u001b[0;34m'Kicker'\u001b[0m\u001b[0;34m,\u001b[0m\u001b[0;34m'Powerball'\u001b[0m\u001b[0;34m,\u001b[0m\u001b[0;34m'Ten_OH'\u001b[0m\u001b[0;34m]\u001b[0m\u001b[0;34m,\u001b[0m \u001b[0maxis\u001b[0m\u001b[0;34m=\u001b[0m\u001b[0;36m1\u001b[0m\u001b[0;34m,\u001b[0m \u001b[0minplace\u001b[0m\u001b[0;34m=\u001b[0m\u001b[0;32mTrue\u001b[0m\u001b[0;34m)\u001b[0m\u001b[0;34m\u001b[0m\u001b[0;34m\u001b[0m\u001b[0m\n\u001b[1;32m      4\u001b[0m \u001b[0;31m# Converting the Date column into something useable\u001b[0m\u001b[0;34m\u001b[0m\u001b[0;34m\u001b[0m\u001b[0;34m\u001b[0m\u001b[0m\n\u001b[1;32m      5\u001b[0m \u001b[0mdf\u001b[0m\u001b[0;34m[\u001b[0m\u001b[0;34m'Date'\u001b[0m\u001b[0;34m]\u001b[0m \u001b[0;34m=\u001b[0m \u001b[0mpd\u001b[0m\u001b[0;34m.\u001b[0m\u001b[0mto_datetime\u001b[0m\u001b[0;34m(\u001b[0m\u001b[0mdf\u001b[0m\u001b[0;34m.\u001b[0m\u001b[0mDate\u001b[0m\u001b[0;34m)\u001b[0m\u001b[0;34m\u001b[0m\u001b[0;34m\u001b[0m\u001b[0m\n",
      "\u001b[0;32m~/.local/lib/python3.8/site-packages/pandas/core/generic.py\u001b[0m in \u001b[0;36m__setattr__\u001b[0;34m(self, name, value)\u001b[0m\n\u001b[1;32m   5285\u001b[0m         \u001b[0;32mtry\u001b[0m\u001b[0;34m:\u001b[0m\u001b[0;34m\u001b[0m\u001b[0;34m\u001b[0m\u001b[0m\n\u001b[1;32m   5286\u001b[0m             \u001b[0mobject\u001b[0m\u001b[0;34m.\u001b[0m\u001b[0m__getattribute__\u001b[0m\u001b[0;34m(\u001b[0m\u001b[0mself\u001b[0m\u001b[0;34m,\u001b[0m \u001b[0mname\u001b[0m\u001b[0;34m)\u001b[0m\u001b[0;34m\u001b[0m\u001b[0;34m\u001b[0m\u001b[0m\n\u001b[0;32m-> 5287\u001b[0;31m             \u001b[0;32mreturn\u001b[0m \u001b[0mobject\u001b[0m\u001b[0;34m.\u001b[0m\u001b[0m__setattr__\u001b[0m\u001b[0;34m(\u001b[0m\u001b[0mself\u001b[0m\u001b[0;34m,\u001b[0m \u001b[0mname\u001b[0m\u001b[0;34m,\u001b[0m \u001b[0mvalue\u001b[0m\u001b[0;34m)\u001b[0m\u001b[0;34m\u001b[0m\u001b[0;34m\u001b[0m\u001b[0m\n\u001b[0m\u001b[1;32m   5288\u001b[0m         \u001b[0;32mexcept\u001b[0m \u001b[0mAttributeError\u001b[0m\u001b[0;34m:\u001b[0m\u001b[0;34m\u001b[0m\u001b[0;34m\u001b[0m\u001b[0m\n\u001b[1;32m   5289\u001b[0m             \u001b[0;32mpass\u001b[0m\u001b[0;34m\u001b[0m\u001b[0;34m\u001b[0m\u001b[0m\n",
      "\u001b[0;32mpandas/_libs/properties.pyx\u001b[0m in \u001b[0;36mpandas._libs.properties.AxisProperty.__set__\u001b[0;34m()\u001b[0m\n",
      "\u001b[0;32m~/.local/lib/python3.8/site-packages/pandas/core/generic.py\u001b[0m in \u001b[0;36m_set_axis\u001b[0;34m(self, axis, labels)\u001b[0m\n\u001b[1;32m    659\u001b[0m \u001b[0;34m\u001b[0m\u001b[0m\n\u001b[1;32m    660\u001b[0m     \u001b[0;32mdef\u001b[0m \u001b[0m_set_axis\u001b[0m\u001b[0;34m(\u001b[0m\u001b[0mself\u001b[0m\u001b[0;34m,\u001b[0m \u001b[0maxis\u001b[0m\u001b[0;34m,\u001b[0m \u001b[0mlabels\u001b[0m\u001b[0;34m)\u001b[0m \u001b[0;34m->\u001b[0m \u001b[0;32mNone\u001b[0m\u001b[0;34m:\u001b[0m\u001b[0;34m\u001b[0m\u001b[0;34m\u001b[0m\u001b[0m\n\u001b[0;32m--> 661\u001b[0;31m         \u001b[0mself\u001b[0m\u001b[0;34m.\u001b[0m\u001b[0m_data\u001b[0m\u001b[0;34m.\u001b[0m\u001b[0mset_axis\u001b[0m\u001b[0;34m(\u001b[0m\u001b[0maxis\u001b[0m\u001b[0;34m,\u001b[0m \u001b[0mlabels\u001b[0m\u001b[0;34m)\u001b[0m\u001b[0;34m\u001b[0m\u001b[0;34m\u001b[0m\u001b[0m\n\u001b[0m\u001b[1;32m    662\u001b[0m         \u001b[0mself\u001b[0m\u001b[0;34m.\u001b[0m\u001b[0m_clear_item_cache\u001b[0m\u001b[0;34m(\u001b[0m\u001b[0;34m)\u001b[0m\u001b[0;34m\u001b[0m\u001b[0;34m\u001b[0m\u001b[0m\n\u001b[1;32m    663\u001b[0m \u001b[0;34m\u001b[0m\u001b[0m\n",
      "\u001b[0;32m~/.local/lib/python3.8/site-packages/pandas/core/internals/managers.py\u001b[0m in \u001b[0;36mset_axis\u001b[0;34m(self, axis, new_labels)\u001b[0m\n\u001b[1;32m    175\u001b[0m \u001b[0;34m\u001b[0m\u001b[0m\n\u001b[1;32m    176\u001b[0m         \u001b[0;32mif\u001b[0m \u001b[0mnew_len\u001b[0m \u001b[0;34m!=\u001b[0m \u001b[0mold_len\u001b[0m\u001b[0;34m:\u001b[0m\u001b[0;34m\u001b[0m\u001b[0;34m\u001b[0m\u001b[0m\n\u001b[0;32m--> 177\u001b[0;31m             raise ValueError(\n\u001b[0m\u001b[1;32m    178\u001b[0m                 \u001b[0;34mf\"Length mismatch: Expected axis has {old_len} elements, new \"\u001b[0m\u001b[0;34m\u001b[0m\u001b[0;34m\u001b[0m\u001b[0m\n\u001b[1;32m    179\u001b[0m                 \u001b[0;34mf\"values have {new_len} elements\"\u001b[0m\u001b[0;34m\u001b[0m\u001b[0;34m\u001b[0m\u001b[0m\n",
      "\u001b[0;31mValueError\u001b[0m: Length mismatch: Expected axis has 5 elements, new values have 10 elements"
     ]
    }
   ],
   "source": [
    "# Rename and drop uneeded columns for individual dataframes\n",
    "df.columns = ['Day_Draw','Date','Pick3','Pick4','Classic_Lotto','Rolling_Cash_5','Mega_Millions','Kicker','Powerball','Ten_OH']\n",
    "df.drop(['Pick4','Classic_Lotto','Rolling_Cash_5','Mega_Millions','Kicker','Powerball','Ten_OH'], axis=1, inplace=True)\n",
    "# Converting the Date column into something useable\n",
    "df['Date'] = pd.to_datetime(df.Date)"
   ]
  },
  {
   "cell_type": "code",
   "execution_count": 5,
   "metadata": {},
   "outputs": [
    {
     "data": {
      "text/html": [
       "<div>\n",
       "<style scoped>\n",
       "    .dataframe tbody tr th:only-of-type {\n",
       "        vertical-align: middle;\n",
       "    }\n",
       "\n",
       "    .dataframe tbody tr th {\n",
       "        vertical-align: top;\n",
       "    }\n",
       "\n",
       "    .dataframe thead th {\n",
       "        text-align: right;\n",
       "    }\n",
       "</style>\n",
       "<table border=\"1\" class=\"dataframe\">\n",
       "  <thead>\n",
       "    <tr style=\"text-align: right;\">\n",
       "      <th></th>\n",
       "      <th>Day_Draw</th>\n",
       "      <th>Date</th>\n",
       "      <th>Pick3</th>\n",
       "    </tr>\n",
       "  </thead>\n",
       "  <tbody>\n",
       "    <tr>\n",
       "      <th>0</th>\n",
       "      <td>FriMid</td>\n",
       "      <td>2010-01-01</td>\n",
       "      <td>391</td>\n",
       "    </tr>\n",
       "    <tr>\n",
       "      <th>1</th>\n",
       "      <td>FriEve</td>\n",
       "      <td>2010-01-01</td>\n",
       "      <td>808</td>\n",
       "    </tr>\n",
       "    <tr>\n",
       "      <th>2</th>\n",
       "      <td>SatMid</td>\n",
       "      <td>2010-01-02</td>\n",
       "      <td>989</td>\n",
       "    </tr>\n",
       "    <tr>\n",
       "      <th>3</th>\n",
       "      <td>SatEve</td>\n",
       "      <td>2010-01-02</td>\n",
       "      <td>137</td>\n",
       "    </tr>\n",
       "    <tr>\n",
       "      <th>4</th>\n",
       "      <td>SunMid</td>\n",
       "      <td>2010-01-03</td>\n",
       "      <td>284</td>\n",
       "    </tr>\n",
       "  </tbody>\n",
       "</table>\n",
       "</div>"
      ],
      "text/plain": [
       "  Day_Draw       Date  Pick3\n",
       "0   FriMid 2010-01-01    391\n",
       "1   FriEve 2010-01-01    808\n",
       "2   SatMid 2010-01-02    989\n",
       "3   SatEve 2010-01-02    137\n",
       "4   SunMid 2010-01-03    284"
      ]
     },
     "execution_count": 5,
     "metadata": {},
     "output_type": "execute_result"
    }
   ],
   "source": [
    "# Damn, I'm getting good at this\n",
    "df.head()"
   ]
  },
  {
   "cell_type": "code",
   "execution_count": 6,
   "metadata": {},
   "outputs": [],
   "source": [
    "# Export our now cleaned data to csv for later processing into a larger dataset\n",
    "export_csv = df.to_csv (r'../LottoData/ProcessedData/Processed_CSV/numbers2010.csv', index = None, header=True)"
   ]
  },
  {
   "cell_type": "code",
   "execution_count": null,
   "metadata": {},
   "outputs": [],
   "source": []
  }
 ],
 "metadata": {
  "kernelspec": {
   "display_name": "Python 3",
   "language": "python",
   "name": "python3"
  },
  "language_info": {
   "codemirror_mode": {
    "name": "ipython",
    "version": 3
   },
   "file_extension": ".py",
   "mimetype": "text/x-python",
   "name": "python",
   "nbconvert_exporter": "python",
   "pygments_lexer": "ipython3",
   "version": "3.7.6"
  }
 },
 "nbformat": 4,
 "nbformat_minor": 4
}
