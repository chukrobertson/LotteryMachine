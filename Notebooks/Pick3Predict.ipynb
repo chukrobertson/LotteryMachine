{
 "cells": [
  {
   "cell_type": "code",
   "execution_count": 1,
   "metadata": {},
   "outputs": [],
   "source": [
    "import pandas as pd\n",
    "import matplotlib.pyplot as plt\n",
    "plt.rcParams['figure.figsize'] = [15, 15]\n",
    "from sklearn.model_selection import train_test_split"
   ]
  },
  {
   "cell_type": "code",
   "execution_count": 2,
   "metadata": {},
   "outputs": [],
   "source": [
    "df_train = pd.read_csv(\"../LottoData/ProcessedData/Final_Data/Pick3_Train_Final.csv\",)\n",
    "df_test = pd.read_csv(\"../LottoData/ProcessedData/Final_Data/Pick3_Test_Final.csv\")\n",
    "train = df_train\n",
    "test = df_test"
   ]
  },
  {
   "cell_type": "code",
   "execution_count": 3,
   "metadata": {},
   "outputs": [
    {
     "data": {
      "text/html": [
       "<div>\n",
       "<style scoped>\n",
       "    .dataframe tbody tr th:only-of-type {\n",
       "        vertical-align: middle;\n",
       "    }\n",
       "\n",
       "    .dataframe tbody tr th {\n",
       "        vertical-align: top;\n",
       "    }\n",
       "\n",
       "    .dataframe thead th {\n",
       "        text-align: right;\n",
       "    }\n",
       "</style>\n",
       "<table border=\"1\" class=\"dataframe\">\n",
       "  <thead>\n",
       "    <tr style=\"text-align: right;\">\n",
       "      <th></th>\n",
       "      <th>Draw</th>\n",
       "      <th>Date</th>\n",
       "      <th>Pick3</th>\n",
       "    </tr>\n",
       "  </thead>\n",
       "  <tbody>\n",
       "    <tr>\n",
       "      <th>0</th>\n",
       "      <td>0</td>\n",
       "      <td>20190101</td>\n",
       "      <td>444</td>\n",
       "    </tr>\n",
       "    <tr>\n",
       "      <th>1</th>\n",
       "      <td>1</td>\n",
       "      <td>20190101</td>\n",
       "      <td>485</td>\n",
       "    </tr>\n",
       "    <tr>\n",
       "      <th>2</th>\n",
       "      <td>0</td>\n",
       "      <td>20190102</td>\n",
       "      <td>103</td>\n",
       "    </tr>\n",
       "    <tr>\n",
       "      <th>3</th>\n",
       "      <td>1</td>\n",
       "      <td>20190102</td>\n",
       "      <td>485</td>\n",
       "    </tr>\n",
       "    <tr>\n",
       "      <th>4</th>\n",
       "      <td>0</td>\n",
       "      <td>20190103</td>\n",
       "      <td>309</td>\n",
       "    </tr>\n",
       "    <tr>\n",
       "      <th>...</th>\n",
       "      <td>...</td>\n",
       "      <td>...</td>\n",
       "      <td>...</td>\n",
       "    </tr>\n",
       "    <tr>\n",
       "      <th>6604</th>\n",
       "      <td>0</td>\n",
       "      <td>20100117</td>\n",
       "      <td>500</td>\n",
       "    </tr>\n",
       "    <tr>\n",
       "      <th>6605</th>\n",
       "      <td>1</td>\n",
       "      <td>20100117</td>\n",
       "      <td>47</td>\n",
       "    </tr>\n",
       "    <tr>\n",
       "      <th>6606</th>\n",
       "      <td>0</td>\n",
       "      <td>20100118</td>\n",
       "      <td>42</td>\n",
       "    </tr>\n",
       "    <tr>\n",
       "      <th>6607</th>\n",
       "      <td>1</td>\n",
       "      <td>20100118</td>\n",
       "      <td>809</td>\n",
       "    </tr>\n",
       "    <tr>\n",
       "      <th>6608</th>\n",
       "      <td>0</td>\n",
       "      <td>20100119</td>\n",
       "      <td>770</td>\n",
       "    </tr>\n",
       "  </tbody>\n",
       "</table>\n",
       "<p>6609 rows × 3 columns</p>\n",
       "</div>"
      ],
      "text/plain": [
       "      Draw      Date  Pick3\n",
       "0        0  20190101    444\n",
       "1        1  20190101    485\n",
       "2        0  20190102    103\n",
       "3        1  20190102    485\n",
       "4        0  20190103    309\n",
       "...    ...       ...    ...\n",
       "6604     0  20100117    500\n",
       "6605     1  20100117     47\n",
       "6606     0  20100118     42\n",
       "6607     1  20100118    809\n",
       "6608     0  20100119    770\n",
       "\n",
       "[6609 rows x 3 columns]"
      ]
     },
     "execution_count": 3,
     "metadata": {},
     "output_type": "execute_result"
    }
   ],
   "source": [
    "train"
   ]
  },
  {
   "cell_type": "code",
   "execution_count": 4,
   "metadata": {},
   "outputs": [
    {
     "data": {
      "text/html": [
       "<div>\n",
       "<style scoped>\n",
       "    .dataframe tbody tr th:only-of-type {\n",
       "        vertical-align: middle;\n",
       "    }\n",
       "\n",
       "    .dataframe tbody tr th {\n",
       "        vertical-align: top;\n",
       "    }\n",
       "\n",
       "    .dataframe thead th {\n",
       "        text-align: right;\n",
       "    }\n",
       "</style>\n",
       "<table border=\"1\" class=\"dataframe\">\n",
       "  <thead>\n",
       "    <tr style=\"text-align: right;\">\n",
       "      <th></th>\n",
       "      <th>Draw</th>\n",
       "      <th>Date</th>\n",
       "      <th>Pick3</th>\n",
       "    </tr>\n",
       "  </thead>\n",
       "  <tbody>\n",
       "    <tr>\n",
       "      <th>0</th>\n",
       "      <td>0</td>\n",
       "      <td>20200101</td>\n",
       "      <td>342</td>\n",
       "    </tr>\n",
       "    <tr>\n",
       "      <th>1</th>\n",
       "      <td>1</td>\n",
       "      <td>20200101</td>\n",
       "      <td>933</td>\n",
       "    </tr>\n",
       "    <tr>\n",
       "      <th>2</th>\n",
       "      <td>0</td>\n",
       "      <td>20200102</td>\n",
       "      <td>537</td>\n",
       "    </tr>\n",
       "    <tr>\n",
       "      <th>3</th>\n",
       "      <td>1</td>\n",
       "      <td>20200102</td>\n",
       "      <td>357</td>\n",
       "    </tr>\n",
       "    <tr>\n",
       "      <th>4</th>\n",
       "      <td>0</td>\n",
       "      <td>20200103</td>\n",
       "      <td>346</td>\n",
       "    </tr>\n",
       "    <tr>\n",
       "      <th>...</th>\n",
       "      <td>...</td>\n",
       "      <td>...</td>\n",
       "      <td>...</td>\n",
       "    </tr>\n",
       "    <tr>\n",
       "      <th>79</th>\n",
       "      <td>1</td>\n",
       "      <td>20200209</td>\n",
       "      <td>346</td>\n",
       "    </tr>\n",
       "    <tr>\n",
       "      <th>80</th>\n",
       "      <td>0</td>\n",
       "      <td>20200210</td>\n",
       "      <td>893</td>\n",
       "    </tr>\n",
       "    <tr>\n",
       "      <th>81</th>\n",
       "      <td>1</td>\n",
       "      <td>20200210</td>\n",
       "      <td>562</td>\n",
       "    </tr>\n",
       "    <tr>\n",
       "      <th>82</th>\n",
       "      <td>0</td>\n",
       "      <td>20200211</td>\n",
       "      <td>262</td>\n",
       "    </tr>\n",
       "    <tr>\n",
       "      <th>83</th>\n",
       "      <td>1</td>\n",
       "      <td>20200211</td>\n",
       "      <td>472</td>\n",
       "    </tr>\n",
       "  </tbody>\n",
       "</table>\n",
       "<p>84 rows × 3 columns</p>\n",
       "</div>"
      ],
      "text/plain": [
       "    Draw      Date  Pick3\n",
       "0      0  20200101    342\n",
       "1      1  20200101    933\n",
       "2      0  20200102    537\n",
       "3      1  20200102    357\n",
       "4      0  20200103    346\n",
       "..   ...       ...    ...\n",
       "79     1  20200209    346\n",
       "80     0  20200210    893\n",
       "81     1  20200210    562\n",
       "82     0  20200211    262\n",
       "83     1  20200211    472\n",
       "\n",
       "[84 rows x 3 columns]"
      ]
     },
     "execution_count": 4,
     "metadata": {},
     "output_type": "execute_result"
    }
   ],
   "source": [
    "test"
   ]
  },
  {
   "cell_type": "code",
   "execution_count": 7,
   "metadata": {},
   "outputs": [],
   "source": [
    "X_train, X_test, y_train, y_test = train_test_split(train, train, test_size=0.2, random_state=1)"
   ]
  },
  {
   "cell_type": "code",
   "execution_count": 10,
   "metadata": {},
   "outputs": [
    {
     "name": "stdout",
     "output_type": "stream",
     "text": [
      "      Draw      Date  Pick3\n",
      "2907     1  20161224    324\n",
      "958      0  20180425    312\n",
      "1909     1  20170813    567\n",
      "1784     0  20170612    501\n",
      "4608     1  20130424    737\n",
      "...    ...       ...    ...\n",
      "905      1  20180329    670\n",
      "5192     1  20120210    720\n",
      "3980     1  20140614    399\n",
      "235      1  20190428    813\n",
      "5157     0  20120124    576\n",
      "\n",
      "[5287 rows x 3 columns]\n",
      "      Draw      Date  Pick3\n",
      "3317     1  20150717    205\n",
      "4222     1  20141013    163\n",
      "961      1  20180426    318\n",
      "4515     0  20130309    526\n",
      "3467     1  20150930    472\n",
      "...    ...       ...    ...\n",
      "3607     1  20151209    151\n",
      "5021     0  20131117    766\n",
      "1740     0  20170521    378\n",
      "6050     0  20110415     91\n",
      "4974     1  20131024    409\n",
      "\n",
      "[1322 rows x 3 columns]\n",
      "      Draw      Date  Pick3\n",
      "2907     1  20161224    324\n",
      "958      0  20180425    312\n",
      "1909     1  20170813    567\n",
      "1784     0  20170612    501\n",
      "4608     1  20130424    737\n",
      "...    ...       ...    ...\n",
      "905      1  20180329    670\n",
      "5192     1  20120210    720\n",
      "3980     1  20140614    399\n",
      "235      1  20190428    813\n",
      "5157     0  20120124    576\n",
      "\n",
      "[5287 rows x 3 columns]\n",
      "      Draw      Date  Pick3\n",
      "3317     1  20150717    205\n",
      "4222     1  20141013    163\n",
      "961      1  20180426    318\n",
      "4515     0  20130309    526\n",
      "3467     1  20150930    472\n",
      "...    ...       ...    ...\n",
      "3607     1  20151209    151\n",
      "5021     0  20131117    766\n",
      "1740     0  20170521    378\n",
      "6050     0  20110415     91\n",
      "4974     1  20131024    409\n",
      "\n",
      "[1322 rows x 3 columns]\n"
     ]
    }
   ],
   "source": [
    "print(X_train)\n",
    "print(X_test)\n",
    "print(y_train)\n",
    "print(y_test)"
   ]
  },
  {
   "cell_type": "code",
   "execution_count": 8,
   "metadata": {},
   "outputs": [
    {
     "data": {
      "text/html": [
       "<div>\n",
       "<style scoped>\n",
       "    .dataframe tbody tr th:only-of-type {\n",
       "        vertical-align: middle;\n",
       "    }\n",
       "\n",
       "    .dataframe tbody tr th {\n",
       "        vertical-align: top;\n",
       "    }\n",
       "\n",
       "    .dataframe thead th {\n",
       "        text-align: right;\n",
       "    }\n",
       "</style>\n",
       "<table border=\"1\" class=\"dataframe\">\n",
       "  <thead>\n",
       "    <tr style=\"text-align: right;\">\n",
       "      <th></th>\n",
       "      <th>Draw</th>\n",
       "      <th>Date</th>\n",
       "      <th>Pick3</th>\n",
       "    </tr>\n",
       "  </thead>\n",
       "  <tbody>\n",
       "    <tr>\n",
       "      <th>count</th>\n",
       "      <td>6609.000000</td>\n",
       "      <td>6.609000e+03</td>\n",
       "      <td>6609.000000</td>\n",
       "    </tr>\n",
       "    <tr>\n",
       "      <th>mean</th>\n",
       "      <td>0.499773</td>\n",
       "      <td>2.015039e+07</td>\n",
       "      <td>493.497201</td>\n",
       "    </tr>\n",
       "    <tr>\n",
       "      <th>std</th>\n",
       "      <td>0.500038</td>\n",
       "      <td>2.602576e+04</td>\n",
       "      <td>286.003816</td>\n",
       "    </tr>\n",
       "    <tr>\n",
       "      <th>min</th>\n",
       "      <td>0.000000</td>\n",
       "      <td>2.010010e+07</td>\n",
       "      <td>0.000000</td>\n",
       "    </tr>\n",
       "    <tr>\n",
       "      <th>25%</th>\n",
       "      <td>0.000000</td>\n",
       "      <td>2.013032e+07</td>\n",
       "      <td>247.000000</td>\n",
       "    </tr>\n",
       "    <tr>\n",
       "      <th>50%</th>\n",
       "      <td>0.000000</td>\n",
       "      <td>2.015062e+07</td>\n",
       "      <td>492.000000</td>\n",
       "    </tr>\n",
       "    <tr>\n",
       "      <th>75%</th>\n",
       "      <td>1.000000</td>\n",
       "      <td>2.017093e+07</td>\n",
       "      <td>736.000000</td>\n",
       "    </tr>\n",
       "    <tr>\n",
       "      <th>max</th>\n",
       "      <td>1.000000</td>\n",
       "      <td>2.019123e+07</td>\n",
       "      <td>999.000000</td>\n",
       "    </tr>\n",
       "  </tbody>\n",
       "</table>\n",
       "</div>"
      ],
      "text/plain": [
       "              Draw          Date        Pick3\n",
       "count  6609.000000  6.609000e+03  6609.000000\n",
       "mean      0.499773  2.015039e+07   493.497201\n",
       "std       0.500038  2.602576e+04   286.003816\n",
       "min       0.000000  2.010010e+07     0.000000\n",
       "25%       0.000000  2.013032e+07   247.000000\n",
       "50%       0.000000  2.015062e+07   492.000000\n",
       "75%       1.000000  2.017093e+07   736.000000\n",
       "max       1.000000  2.019123e+07   999.000000"
      ]
     },
     "execution_count": 8,
     "metadata": {},
     "output_type": "execute_result"
    }
   ],
   "source": [
    "df_train.describe()"
   ]
  },
  {
   "cell_type": "code",
   "execution_count": 6,
   "metadata": {},
   "outputs": [
    {
     "data": {
      "text/html": [
       "<div>\n",
       "<style scoped>\n",
       "    .dataframe tbody tr th:only-of-type {\n",
       "        vertical-align: middle;\n",
       "    }\n",
       "\n",
       "    .dataframe tbody tr th {\n",
       "        vertical-align: top;\n",
       "    }\n",
       "\n",
       "    .dataframe thead th {\n",
       "        text-align: right;\n",
       "    }\n",
       "</style>\n",
       "<table border=\"1\" class=\"dataframe\">\n",
       "  <thead>\n",
       "    <tr style=\"text-align: right;\">\n",
       "      <th></th>\n",
       "      <th>Draw</th>\n",
       "      <th>Date</th>\n",
       "      <th>Pick3</th>\n",
       "    </tr>\n",
       "  </thead>\n",
       "  <tbody>\n",
       "    <tr>\n",
       "      <th>count</th>\n",
       "      <td>84.000000</td>\n",
       "      <td>8.400000e+01</td>\n",
       "      <td>84.000000</td>\n",
       "    </tr>\n",
       "    <tr>\n",
       "      <th>mean</th>\n",
       "      <td>0.500000</td>\n",
       "      <td>2.020014e+07</td>\n",
       "      <td>487.892857</td>\n",
       "    </tr>\n",
       "    <tr>\n",
       "      <th>std</th>\n",
       "      <td>0.503003</td>\n",
       "      <td>4.058437e+01</td>\n",
       "      <td>301.929379</td>\n",
       "    </tr>\n",
       "    <tr>\n",
       "      <th>min</th>\n",
       "      <td>0.000000</td>\n",
       "      <td>2.020010e+07</td>\n",
       "      <td>19.000000</td>\n",
       "    </tr>\n",
       "    <tr>\n",
       "      <th>25%</th>\n",
       "      <td>0.000000</td>\n",
       "      <td>2.020011e+07</td>\n",
       "      <td>200.250000</td>\n",
       "    </tr>\n",
       "    <tr>\n",
       "      <th>50%</th>\n",
       "      <td>0.500000</td>\n",
       "      <td>2.020012e+07</td>\n",
       "      <td>531.500000</td>\n",
       "    </tr>\n",
       "    <tr>\n",
       "      <th>75%</th>\n",
       "      <td>1.000000</td>\n",
       "      <td>2.020020e+07</td>\n",
       "      <td>742.250000</td>\n",
       "    </tr>\n",
       "    <tr>\n",
       "      <th>max</th>\n",
       "      <td>1.000000</td>\n",
       "      <td>2.020021e+07</td>\n",
       "      <td>989.000000</td>\n",
       "    </tr>\n",
       "  </tbody>\n",
       "</table>\n",
       "</div>"
      ],
      "text/plain": [
       "            Draw          Date       Pick3\n",
       "count  84.000000  8.400000e+01   84.000000\n",
       "mean    0.500000  2.020014e+07  487.892857\n",
       "std     0.503003  4.058437e+01  301.929379\n",
       "min     0.000000  2.020010e+07   19.000000\n",
       "25%     0.000000  2.020011e+07  200.250000\n",
       "50%     0.500000  2.020012e+07  531.500000\n",
       "75%     1.000000  2.020020e+07  742.250000\n",
       "max     1.000000  2.020021e+07  989.000000"
      ]
     },
     "execution_count": 6,
     "metadata": {},
     "output_type": "execute_result"
    }
   ],
   "source": [
    "df_test.describe()"
   ]
  },
  {
   "cell_type": "code",
   "execution_count": 9,
   "metadata": {},
   "outputs": [
    {
     "name": "stdout",
     "output_type": "stream",
     "text": [
      "<class 'pandas.core.frame.DataFrame'>\n",
      "RangeIndex: 6609 entries, 0 to 6608\n",
      "Data columns (total 3 columns):\n",
      " #   Column  Non-Null Count  Dtype\n",
      "---  ------  --------------  -----\n",
      " 0   Draw    6609 non-null   int64\n",
      " 1   Date    6609 non-null   int64\n",
      " 2   Pick3   6609 non-null   int64\n",
      "dtypes: int64(3)\n",
      "memory usage: 155.0 KB\n"
     ]
    }
   ],
   "source": [
    "train.info()"
   ]
  },
  {
   "cell_type": "code",
   "execution_count": 8,
   "metadata": {},
   "outputs": [
    {
     "name": "stdout",
     "output_type": "stream",
     "text": [
      "<class 'pandas.core.frame.DataFrame'>\n",
      "RangeIndex: 84 entries, 0 to 83\n",
      "Data columns (total 3 columns):\n",
      " #   Column  Non-Null Count  Dtype\n",
      "---  ------  --------------  -----\n",
      " 0   Draw    84 non-null     int64\n",
      " 1   Date    84 non-null     int64\n",
      " 2   Pick3   84 non-null     int64\n",
      "dtypes: int64(3)\n",
      "memory usage: 2.1 KB\n"
     ]
    }
   ],
   "source": [
    "test.info()"
   ]
  },
  {
   "cell_type": "code",
   "execution_count": 9,
   "metadata": {},
   "outputs": [],
   "source": [
    "# train['Pick3'].plot(kind='hist', title='Pick3 Distribution', bins=100)\n",
    "# plt.show()"
   ]
  },
  {
   "cell_type": "code",
   "execution_count": 10,
   "metadata": {},
   "outputs": [],
   "source": [
    "# plt.rcParams['figure.figsize'] = [15, 15]\n",
    "# train.plot.scatter(x='Pick3', y='Date');"
   ]
  },
  {
   "cell_type": "code",
   "execution_count": 11,
   "metadata": {},
   "outputs": [],
   "source": [
    "# train.Pick3.hist(bins=1000);"
   ]
  },
  {
   "cell_type": "code",
   "execution_count": 12,
   "metadata": {},
   "outputs": [],
   "source": [
    "# train.corr().abs()"
   ]
  },
  {
   "cell_type": "code",
   "execution_count": 13,
   "metadata": {},
   "outputs": [],
   "source": [
    "# Install a pip package in the current Jupyter kernel\n",
    "import sys\n",
    "# !{sys.executable} -m pip install sklearn"
   ]
  },
  {
   "cell_type": "code",
   "execution_count": 11,
   "metadata": {},
   "outputs": [],
   "source": [
    "from sklearn.neighbors import KNeighborsRegressor\n",
    "from sklearn.metrics import mean_absolute_error"
   ]
  },
  {
   "cell_type": "code",
   "execution_count": 93,
   "metadata": {},
   "outputs": [
    {
     "name": "stdout",
     "output_type": "stream",
     "text": [
      "[699.]\n",
      "[257.]\n",
      "[699.]\n"
     ]
    }
   ],
   "source": [
    "# Not Accurate\n",
    "features = ['Date','Draw']\n",
    "target = 'Pick3'\n",
    "\n",
    "from sklearn.neighbors import KNeighborsRegressor\n",
    "model = KNeighborsRegressor(n_neighbors=int(1))\n",
    "model.fit(train[features], train[target])\n",
    "print(model.predict([[20200101,0]]))\n",
    "print(model.predict([[20200101,1]]))\n",
    "print(model.predict([[20200102,0]]))"
   ]
  },
  {
   "cell_type": "code",
   "execution_count": 95,
   "metadata": {},
   "outputs": [
    {
     "name": "stdout",
     "output_type": "stream",
     "text": [
      "[699.]\n",
      "[257.]\n",
      "[699.]\n"
     ]
    }
   ],
   "source": [
    "# Not Accurate\n",
    "features = ['Date','Draw']\n",
    "target = 'Pick3'\n",
    "\n",
    "# Fit model\n",
    "from sklearn.tree import DecisionTreeRegressor\n",
    "model = DecisionTreeRegressor(criterion='mae')\n",
    "model.fit(train[features], train[target])\n",
    "print(model.predict([[20200101,0]]))\n",
    "print(model.predict([[20200101,1]]))\n",
    "print(model.predict([[20200102,0]]))"
   ]
  },
  {
   "cell_type": "code",
   "execution_count": 96,
   "metadata": {},
   "outputs": [
    {
     "name": "stdout",
     "output_type": "stream",
     "text": [
      "Train Error: $ 114.0\n",
      "Test Error: $ 306.0\n"
     ]
    }
   ],
   "source": [
    "# Calculate mean absolute error on the training data\n",
    "y_true = train[target]\n",
    "y_pred = model.predict(train[features])\n",
    "train_error = mean_absolute_error(y_true, y_pred)\n",
    "\n",
    "# Calculate mean absolute error on the test data\n",
    "y_true = test[target]\n",
    "y_pred = model.predict(test[features])\n",
    "test_error = mean_absolute_error(y_true, y_pred)\n",
    "\n",
    "# Display the errors\n",
    "print('Train Error: $', round(train_error))\n",
    "print('Test Error: $', round(test_error))"
   ]
  },
  {
   "cell_type": "code",
   "execution_count": 94,
   "metadata": {},
   "outputs": [
    {
     "name": "stdout",
     "output_type": "stream",
     "text": [
      "[482.27464358]\n",
      "[483.73160025]\n",
      "[482.27443249]\n"
     ]
    }
   ],
   "source": [
    "# Not Accurate\n",
    "features = ['Date','Draw']\n",
    "target = 'Pick3'\n",
    "\n",
    "# Fit model\n",
    "from sklearn.linear_model import LinearRegression\n",
    "from sklearn.model_selection import train_test_split\n",
    "model = LinearRegression(fit_intercept=True, normalize=True, copy_X=True, n_jobs=7)\n",
    "model.fit(train[features], train[target])\n",
    "print(model.predict([[20200101,0]]))\n",
    "print(model.predict([[20200101,1]]))\n",
    "print(model.predict([[20200102,0]]))"
   ]
  },
  {
   "cell_type": "code",
   "execution_count": 87,
   "metadata": {},
   "outputs": [
    {
     "data": {
      "text/plain": [
       "(array([-2.11087467e-04,  1.45695667e+00]), 4746.2627909205485)"
      ]
     },
     "execution_count": 87,
     "metadata": {},
     "output_type": "execute_result"
    }
   ],
   "source": [
    "# In summary...\n",
    "model.coef_,model.intercept_\n",
    "# I need:\n",
    "# 1. More data\n",
    "# 2. More features\n",
    "# 3. Better models"
   ]
  },
  {
   "cell_type": "code",
   "execution_count": null,
   "metadata": {},
   "outputs": [],
   "source": []
  }
 ],
 "metadata": {
  "kernelspec": {
   "display_name": "Python 3",
   "language": "python",
   "name": "python3"
  },
  "language_info": {
   "codemirror_mode": {
    "name": "ipython",
    "version": 3
   },
   "file_extension": ".py",
   "mimetype": "text/x-python",
   "name": "python",
   "nbconvert_exporter": "python",
   "pygments_lexer": "ipython3",
   "version": "3.8.2rc1"
  }
 },
 "nbformat": 4,
 "nbformat_minor": 4
}
