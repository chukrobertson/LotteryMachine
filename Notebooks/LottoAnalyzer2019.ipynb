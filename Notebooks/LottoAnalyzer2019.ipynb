{
 "cells": [
  {
   "cell_type": "code",
   "execution_count": 1,
   "metadata": {},
   "outputs": [],
   "source": [
    "import pandas as pd\n",
    "import numpy as np\n",
    "import matplotlib.pyplot as plt\n",
    "plt.rcParams['figure.figsize'] = [15, 15]"
   ]
  },
  {
   "cell_type": "code",
   "execution_count": 2,
   "metadata": {},
   "outputs": [],
   "source": [
    "df = pd.read_csv(\"OhioPick3_12-19_dataset_3-28-20.csv\")"
   ]
  },
  {
   "cell_type": "code",
   "execution_count": 3,
   "metadata": {},
   "outputs": [
    {
     "data": {
      "text/plain": [
       "(5842, 16)"
      ]
     },
     "execution_count": 3,
     "metadata": {},
     "output_type": "execute_result"
    }
   ],
   "source": [
    "df.shape"
   ]
  },
  {
   "cell_type": "code",
   "execution_count": 4,
   "metadata": {},
   "outputs": [
    {
     "data": {
      "text/html": [
       "<div>\n",
       "<style scoped>\n",
       "    .dataframe tbody tr th:only-of-type {\n",
       "        vertical-align: middle;\n",
       "    }\n",
       "\n",
       "    .dataframe tbody tr th {\n",
       "        vertical-align: top;\n",
       "    }\n",
       "\n",
       "    .dataframe thead th {\n",
       "        text-align: right;\n",
       "    }\n",
       "</style>\n",
       "<table border=\"1\" class=\"dataframe\">\n",
       "  <thead>\n",
       "    <tr style=\"text-align: right;\">\n",
       "      <th></th>\n",
       "      <th>Draw</th>\n",
       "      <th>Date</th>\n",
       "      <th>Pick3</th>\n",
       "      <th>Pick4</th>\n",
       "      <th>Date_Time</th>\n",
       "      <th>Date_Str</th>\n",
       "      <th>Date_Delta</th>\n",
       "      <th>Pick3str</th>\n",
       "      <th>Pick4str</th>\n",
       "      <th>P3B1</th>\n",
       "      <th>P3B2</th>\n",
       "      <th>P3B3</th>\n",
       "      <th>P4B1</th>\n",
       "      <th>P4B2</th>\n",
       "      <th>P4B3</th>\n",
       "      <th>P4B4</th>\n",
       "    </tr>\n",
       "  </thead>\n",
       "  <tbody>\n",
       "    <tr>\n",
       "      <th>0</th>\n",
       "      <td>0</td>\n",
       "      <td>2012-01-01</td>\n",
       "      <td>991</td>\n",
       "      <td>979</td>\n",
       "      <td>2012-01-01</td>\n",
       "      <td>20120101</td>\n",
       "      <td>0.0</td>\n",
       "      <td>991</td>\n",
       "      <td>979</td>\n",
       "      <td>9</td>\n",
       "      <td>9</td>\n",
       "      <td>1</td>\n",
       "      <td>0</td>\n",
       "      <td>9</td>\n",
       "      <td>7</td>\n",
       "      <td>9</td>\n",
       "    </tr>\n",
       "    <tr>\n",
       "      <th>1</th>\n",
       "      <td>1</td>\n",
       "      <td>2012-01-01</td>\n",
       "      <td>441</td>\n",
       "      <td>7036</td>\n",
       "      <td>2012-01-01</td>\n",
       "      <td>20120101</td>\n",
       "      <td>0.0</td>\n",
       "      <td>441</td>\n",
       "      <td>7036</td>\n",
       "      <td>4</td>\n",
       "      <td>4</td>\n",
       "      <td>1</td>\n",
       "      <td>7</td>\n",
       "      <td>0</td>\n",
       "      <td>3</td>\n",
       "      <td>6</td>\n",
       "    </tr>\n",
       "    <tr>\n",
       "      <th>2</th>\n",
       "      <td>0</td>\n",
       "      <td>2012-01-02</td>\n",
       "      <td>516</td>\n",
       "      <td>1507</td>\n",
       "      <td>2012-01-02</td>\n",
       "      <td>20120102</td>\n",
       "      <td>1.0</td>\n",
       "      <td>516</td>\n",
       "      <td>1507</td>\n",
       "      <td>5</td>\n",
       "      <td>1</td>\n",
       "      <td>6</td>\n",
       "      <td>1</td>\n",
       "      <td>5</td>\n",
       "      <td>0</td>\n",
       "      <td>7</td>\n",
       "    </tr>\n",
       "    <tr>\n",
       "      <th>3</th>\n",
       "      <td>1</td>\n",
       "      <td>2012-01-02</td>\n",
       "      <td>629</td>\n",
       "      <td>452</td>\n",
       "      <td>2012-01-02</td>\n",
       "      <td>20120102</td>\n",
       "      <td>1.0</td>\n",
       "      <td>629</td>\n",
       "      <td>452</td>\n",
       "      <td>6</td>\n",
       "      <td>2</td>\n",
       "      <td>9</td>\n",
       "      <td>0</td>\n",
       "      <td>4</td>\n",
       "      <td>5</td>\n",
       "      <td>2</td>\n",
       "    </tr>\n",
       "    <tr>\n",
       "      <th>4</th>\n",
       "      <td>0</td>\n",
       "      <td>2012-01-03</td>\n",
       "      <td>188</td>\n",
       "      <td>1857</td>\n",
       "      <td>2012-01-03</td>\n",
       "      <td>20120103</td>\n",
       "      <td>2.0</td>\n",
       "      <td>188</td>\n",
       "      <td>1857</td>\n",
       "      <td>1</td>\n",
       "      <td>8</td>\n",
       "      <td>8</td>\n",
       "      <td>1</td>\n",
       "      <td>8</td>\n",
       "      <td>5</td>\n",
       "      <td>7</td>\n",
       "    </tr>\n",
       "  </tbody>\n",
       "</table>\n",
       "</div>"
      ],
      "text/plain": [
       "   Draw        Date  Pick3  Pick4   Date_Time  Date_Str  Date_Delta  Pick3str  \\\n",
       "0     0  2012-01-01    991    979  2012-01-01  20120101         0.0       991   \n",
       "1     1  2012-01-01    441   7036  2012-01-01  20120101         0.0       441   \n",
       "2     0  2012-01-02    516   1507  2012-01-02  20120102         1.0       516   \n",
       "3     1  2012-01-02    629    452  2012-01-02  20120102         1.0       629   \n",
       "4     0  2012-01-03    188   1857  2012-01-03  20120103         2.0       188   \n",
       "\n",
       "   Pick4str  P3B1  P3B2  P3B3  P4B1  P4B2  P4B3  P4B4  \n",
       "0       979     9     9     1     0     9     7     9  \n",
       "1      7036     4     4     1     7     0     3     6  \n",
       "2      1507     5     1     6     1     5     0     7  \n",
       "3       452     6     2     9     0     4     5     2  \n",
       "4      1857     1     8     8     1     8     5     7  "
      ]
     },
     "execution_count": 4,
     "metadata": {},
     "output_type": "execute_result"
    }
   ],
   "source": [
    "df.head()"
   ]
  },
  {
   "cell_type": "code",
   "execution_count": 5,
   "metadata": {},
   "outputs": [
    {
     "data": {
      "text/html": [
       "<div>\n",
       "<style scoped>\n",
       "    .dataframe tbody tr th:only-of-type {\n",
       "        vertical-align: middle;\n",
       "    }\n",
       "\n",
       "    .dataframe tbody tr th {\n",
       "        vertical-align: top;\n",
       "    }\n",
       "\n",
       "    .dataframe thead th {\n",
       "        text-align: right;\n",
       "    }\n",
       "</style>\n",
       "<table border=\"1\" class=\"dataframe\">\n",
       "  <thead>\n",
       "    <tr style=\"text-align: right;\">\n",
       "      <th></th>\n",
       "      <th>Draw</th>\n",
       "      <th>Date</th>\n",
       "      <th>Pick3</th>\n",
       "      <th>Pick4</th>\n",
       "      <th>Date_Time</th>\n",
       "      <th>Date_Str</th>\n",
       "      <th>Date_Delta</th>\n",
       "      <th>Pick3str</th>\n",
       "      <th>Pick4str</th>\n",
       "      <th>P3B1</th>\n",
       "      <th>P3B2</th>\n",
       "      <th>P3B3</th>\n",
       "      <th>P4B1</th>\n",
       "      <th>P4B2</th>\n",
       "      <th>P4B3</th>\n",
       "      <th>P4B4</th>\n",
       "    </tr>\n",
       "  </thead>\n",
       "  <tbody>\n",
       "    <tr>\n",
       "      <th>5837</th>\n",
       "      <td>1</td>\n",
       "      <td>2019-12-29</td>\n",
       "      <td>219</td>\n",
       "      <td>4498</td>\n",
       "      <td>2019-12-29</td>\n",
       "      <td>20191229</td>\n",
       "      <td>2919.0</td>\n",
       "      <td>219</td>\n",
       "      <td>4498</td>\n",
       "      <td>2</td>\n",
       "      <td>1</td>\n",
       "      <td>9</td>\n",
       "      <td>4</td>\n",
       "      <td>4</td>\n",
       "      <td>9</td>\n",
       "      <td>8</td>\n",
       "    </tr>\n",
       "    <tr>\n",
       "      <th>5838</th>\n",
       "      <td>0</td>\n",
       "      <td>2019-12-30</td>\n",
       "      <td>354</td>\n",
       "      <td>5378</td>\n",
       "      <td>2019-12-30</td>\n",
       "      <td>20191230</td>\n",
       "      <td>2920.0</td>\n",
       "      <td>354</td>\n",
       "      <td>5378</td>\n",
       "      <td>3</td>\n",
       "      <td>5</td>\n",
       "      <td>4</td>\n",
       "      <td>5</td>\n",
       "      <td>3</td>\n",
       "      <td>7</td>\n",
       "      <td>8</td>\n",
       "    </tr>\n",
       "    <tr>\n",
       "      <th>5839</th>\n",
       "      <td>1</td>\n",
       "      <td>2019-12-30</td>\n",
       "      <td>655</td>\n",
       "      <td>4842</td>\n",
       "      <td>2019-12-30</td>\n",
       "      <td>20191230</td>\n",
       "      <td>2920.0</td>\n",
       "      <td>655</td>\n",
       "      <td>4842</td>\n",
       "      <td>6</td>\n",
       "      <td>5</td>\n",
       "      <td>5</td>\n",
       "      <td>4</td>\n",
       "      <td>8</td>\n",
       "      <td>4</td>\n",
       "      <td>2</td>\n",
       "    </tr>\n",
       "    <tr>\n",
       "      <th>5840</th>\n",
       "      <td>0</td>\n",
       "      <td>2019-12-31</td>\n",
       "      <td>699</td>\n",
       "      <td>7952</td>\n",
       "      <td>2019-12-31</td>\n",
       "      <td>20191231</td>\n",
       "      <td>2921.0</td>\n",
       "      <td>699</td>\n",
       "      <td>7952</td>\n",
       "      <td>6</td>\n",
       "      <td>9</td>\n",
       "      <td>9</td>\n",
       "      <td>7</td>\n",
       "      <td>9</td>\n",
       "      <td>5</td>\n",
       "      <td>2</td>\n",
       "    </tr>\n",
       "    <tr>\n",
       "      <th>5841</th>\n",
       "      <td>1</td>\n",
       "      <td>2019-12-31</td>\n",
       "      <td>257</td>\n",
       "      <td>1734</td>\n",
       "      <td>2019-12-31</td>\n",
       "      <td>20191231</td>\n",
       "      <td>2921.0</td>\n",
       "      <td>257</td>\n",
       "      <td>1734</td>\n",
       "      <td>2</td>\n",
       "      <td>5</td>\n",
       "      <td>7</td>\n",
       "      <td>1</td>\n",
       "      <td>7</td>\n",
       "      <td>3</td>\n",
       "      <td>4</td>\n",
       "    </tr>\n",
       "  </tbody>\n",
       "</table>\n",
       "</div>"
      ],
      "text/plain": [
       "      Draw        Date  Pick3  Pick4   Date_Time  Date_Str  Date_Delta  \\\n",
       "5837     1  2019-12-29    219   4498  2019-12-29  20191229      2919.0   \n",
       "5838     0  2019-12-30    354   5378  2019-12-30  20191230      2920.0   \n",
       "5839     1  2019-12-30    655   4842  2019-12-30  20191230      2920.0   \n",
       "5840     0  2019-12-31    699   7952  2019-12-31  20191231      2921.0   \n",
       "5841     1  2019-12-31    257   1734  2019-12-31  20191231      2921.0   \n",
       "\n",
       "      Pick3str  Pick4str  P3B1  P3B2  P3B3  P4B1  P4B2  P4B3  P4B4  \n",
       "5837       219      4498     2     1     9     4     4     9     8  \n",
       "5838       354      5378     3     5     4     5     3     7     8  \n",
       "5839       655      4842     6     5     5     4     8     4     2  \n",
       "5840       699      7952     6     9     9     7     9     5     2  \n",
       "5841       257      1734     2     5     7     1     7     3     4  "
      ]
     },
     "execution_count": 5,
     "metadata": {},
     "output_type": "execute_result"
    }
   ],
   "source": [
    "df.tail()"
   ]
  },
  {
   "cell_type": "code",
   "execution_count": 6,
   "metadata": {},
   "outputs": [
    {
     "data": {
      "text/plain": [
       "Index(['Draw', 'Date', 'Pick3', 'Pick4', 'Date_Time', 'Date_Str', 'Date_Delta',\n",
       "       'Pick3str', 'Pick4str', 'P3B1', 'P3B2', 'P3B3', 'P4B1', 'P4B2', 'P4B3',\n",
       "       'P4B4'],\n",
       "      dtype='object')"
      ]
     },
     "execution_count": 6,
     "metadata": {},
     "output_type": "execute_result"
    }
   ],
   "source": [
    "df.columns"
   ]
  },
  {
   "cell_type": "code",
   "execution_count": 7,
   "metadata": {},
   "outputs": [],
   "source": [
    "# df.columns = ['Day_Draw', 'Date', 'Pick3', 'Pick4', 'Pick5', 'Classic_Lotto', 'Kicker', 'Rolling_Cash_5', 'Mega_Millions', 'Powerball', 'Lucky_For_Life']"
   ]
  },
  {
   "cell_type": "code",
   "execution_count": 8,
   "metadata": {},
   "outputs": [
    {
     "data": {
      "text/plain": [
       "Index(['Draw', 'Date', 'Pick3', 'Pick4', 'Date_Time', 'Date_Str', 'Date_Delta',\n",
       "       'Pick3str', 'Pick4str', 'P3B1', 'P3B2', 'P3B3', 'P4B1', 'P4B2', 'P4B3',\n",
       "       'P4B4'],\n",
       "      dtype='object')"
      ]
     },
     "execution_count": 8,
     "metadata": {},
     "output_type": "execute_result"
    }
   ],
   "source": [
    "df.columns"
   ]
  },
  {
   "cell_type": "code",
   "execution_count": 9,
   "metadata": {},
   "outputs": [
    {
     "data": {
      "text/plain": [
       "15"
      ]
     },
     "execution_count": 9,
     "metadata": {},
     "output_type": "execute_result"
    }
   ],
   "source": [
    "df['Pick3'].value_counts().max()"
   ]
  },
  {
   "cell_type": "code",
   "execution_count": 10,
   "metadata": {},
   "outputs": [
    {
     "data": {
      "text/plain": [
       "125"
      ]
     },
     "execution_count": 10,
     "metadata": {},
     "output_type": "execute_result"
    }
   ],
   "source": [
    "df['Pick3'].value_counts().idxmax()"
   ]
  },
  {
   "cell_type": "code",
   "execution_count": 11,
   "metadata": {},
   "outputs": [
    {
     "data": {
      "image/png": "[encoded data removed]",
      "text/plain": [
       "<Figure size 1080x1080 with 1 Axes>"
      ]
     },
     "metadata": {
      "needs_background": "light"
     },
     "output_type": "display_data"
    }
   ],
   "source": [
    "df.plot.area('Date','Pick3');"
   ]
  },
  {
   "cell_type": "code",
   "execution_count": 12,
   "metadata": {},
   "outputs": [
    {
     "data": {
      "image/png": "[encoded data removed]",
      "text/plain": [
       "<Figure size 1080x1080 with 1 Axes>"
      ]
     },
     "metadata": {
      "needs_background": "light"
     },
     "output_type": "display_data"
    }
   ],
   "source": [
    "df.Pick3.hist(bins=1000);"
   ]
  },
  {
   "cell_type": "code",
   "execution_count": null,
   "metadata": {},
   "outputs": [],
   "source": []
  }
 ],
 "metadata": {
  "kernelspec": {
   "display_name": "Python 3",
   "language": "python",
   "name": "python3"
  },
  "language_info": {
   "codemirror_mode": {
    "name": "ipython",
    "version": 3
   },
   "file_extension": ".py",
   "mimetype": "text/x-python",
   "name": "python",
   "nbconvert_exporter": "python",
   "pygments_lexer": "ipython3",
   "version": "3.7.6"
  }
 },
 "nbformat": 4,
 "nbformat_minor": 4
}
