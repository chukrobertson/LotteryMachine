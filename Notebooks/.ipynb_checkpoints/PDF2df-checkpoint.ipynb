{
 "cells": [
  {
   "cell_type": "code",
   "execution_count": null,
   "metadata": {},
   "outputs": [],
   "source": [
    "# Install a pip package in the current Jupyter kernel\n",
    "import sys\n",
    "# !{sys.executable} -m pip install tabula-py"
   ]
  },
  {
   "cell_type": "code",
   "execution_count": 4,
   "metadata": {},
   "outputs": [],
   "source": [
    "# Only works for 2010pdf!\n",
    "import tabula\n",
    "import numpy as np\n",
    "import pandas as pd"
   ]
  },
  {
   "cell_type": "code",
   "execution_count": 5,
   "metadata": {},
   "outputs": [],
   "source": [
    "# Path to the PDF to be read in\n",
    "inPDF_Path = \"../LottoData/UnprocessedData/PDFs/numbers2010.pdf\""
   ]
  },
  {
   "cell_type": "code",
   "execution_count": 7,
   "metadata": {},
   "outputs": [],
   "source": [
    "# Reading the PDF into a list\n",
    "pdf = tabula.read_pdf(inPDF_Path, encoding='utf-8', pages='all', stream=True)[0]\n",
    "# Converting list to dataframe\n",
    "df = pd.DataFrame(pdf) "
   ]
  },
  {
   "cell_type": "code",
   "execution_count": 8,
   "metadata": {},
   "outputs": [
    {
     "data": {
      "text/html": [
       "<div>\n",
       "<style scoped>\n",
       "    .dataframe tbody tr th:only-of-type {\n",
       "        vertical-align: middle;\n",
       "    }\n",
       "\n",
       "    .dataframe tbody tr th {\n",
       "        vertical-align: top;\n",
       "    }\n",
       "\n",
       "    .dataframe thead th {\n",
       "        text-align: right;\n",
       "    }\n",
       "</style>\n",
       "<table border=\"1\" class=\"dataframe\">\n",
       "  <thead>\n",
       "    <tr style=\"text-align: right;\">\n",
       "      <th></th>\n",
       "      <th>Day_Draw</th>\n",
       "      <th>Date</th>\n",
       "      <th>Pick3</th>\n",
       "    </tr>\n",
       "  </thead>\n",
       "  <tbody>\n",
       "    <tr>\n",
       "      <th>0</th>\n",
       "      <td>FriMid</td>\n",
       "      <td>2010-01-01</td>\n",
       "      <td>391</td>\n",
       "    </tr>\n",
       "    <tr>\n",
       "      <th>1</th>\n",
       "      <td>FriEve</td>\n",
       "      <td>2010-01-01</td>\n",
       "      <td>808</td>\n",
       "    </tr>\n",
       "    <tr>\n",
       "      <th>2</th>\n",
       "      <td>SatMid</td>\n",
       "      <td>2010-01-02</td>\n",
       "      <td>989</td>\n",
       "    </tr>\n",
       "    <tr>\n",
       "      <th>3</th>\n",
       "      <td>SatEve</td>\n",
       "      <td>2010-01-02</td>\n",
       "      <td>137</td>\n",
       "    </tr>\n",
       "    <tr>\n",
       "      <th>4</th>\n",
       "      <td>SunMid</td>\n",
       "      <td>2010-01-03</td>\n",
       "      <td>284</td>\n",
       "    </tr>\n",
       "    <tr>\n",
       "      <th>5</th>\n",
       "      <td>SunEve</td>\n",
       "      <td>2010-01-03</td>\n",
       "      <td>290</td>\n",
       "    </tr>\n",
       "    <tr>\n",
       "      <th>6</th>\n",
       "      <td>MonMid</td>\n",
       "      <td>2010-01-04</td>\n",
       "      <td>942</td>\n",
       "    </tr>\n",
       "    <tr>\n",
       "      <th>7</th>\n",
       "      <td>MonEve</td>\n",
       "      <td>2010-01-04</td>\n",
       "      <td>809</td>\n",
       "    </tr>\n",
       "    <tr>\n",
       "      <th>8</th>\n",
       "      <td>TueMid</td>\n",
       "      <td>2010-01-05</td>\n",
       "      <td>278</td>\n",
       "    </tr>\n",
       "    <tr>\n",
       "      <th>9</th>\n",
       "      <td>TueEve</td>\n",
       "      <td>2010-01-05</td>\n",
       "      <td>755</td>\n",
       "    </tr>\n",
       "  </tbody>\n",
       "</table>\n",
       "</div>"
      ],
      "text/plain": [
       "  Day_Draw       Date  Pick3\n",
       "0   FriMid 2010-01-01    391\n",
       "1   FriEve 2010-01-01    808\n",
       "2   SatMid 2010-01-02    989\n",
       "3   SatEve 2010-01-02    137\n",
       "4   SunMid 2010-01-03    284\n",
       "5   SunEve 2010-01-03    290\n",
       "6   MonMid 2010-01-04    942\n",
       "7   MonEve 2010-01-04    809\n",
       "8   TueMid 2010-01-05    278\n",
       "9   TueEve 2010-01-05    755"
      ]
     },
     "execution_count": 8,
     "metadata": {},
     "output_type": "execute_result"
    }
   ],
   "source": [
    "# Rename and drop uneeded columns for individual dataframes\n",
    "df.columns = ['Day_Draw','Date','Pick3','Pick4','Classic_Lotto','Rolling_Cash_5','Mega_Millions','Kicker','Powerball','Ten_OH']\n",
    "df.drop(['Pick4','Classic_Lotto','Rolling_Cash_5','Mega_Millions','Kicker','Powerball','Ten_OH'], axis=1, inplace=True)\n",
    "# Converting the Date column into something useable\n",
    "df['Date'] = pd.to_datetime(df.Date)\n",
    "df.head(10)"
   ]
  },
  {
   "cell_type": "code",
   "execution_count": 9,
   "metadata": {},
   "outputs": [
    {
     "data": {
      "text/html": [
       "<div>\n",
       "<style scoped>\n",
       "    .dataframe tbody tr th:only-of-type {\n",
       "        vertical-align: middle;\n",
       "    }\n",
       "\n",
       "    .dataframe tbody tr th {\n",
       "        vertical-align: top;\n",
       "    }\n",
       "\n",
       "    .dataframe thead th {\n",
       "        text-align: right;\n",
       "    }\n",
       "</style>\n",
       "<table border=\"1\" class=\"dataframe\">\n",
       "  <thead>\n",
       "    <tr style=\"text-align: right;\">\n",
       "      <th></th>\n",
       "      <th>Day_Draw</th>\n",
       "      <th>Date</th>\n",
       "      <th>Pick3</th>\n",
       "    </tr>\n",
       "  </thead>\n",
       "  <tbody>\n",
       "    <tr>\n",
       "      <th>0</th>\n",
       "      <td>FriMid</td>\n",
       "      <td>2010-01-01</td>\n",
       "      <td>391</td>\n",
       "    </tr>\n",
       "    <tr>\n",
       "      <th>1</th>\n",
       "      <td>FriEve</td>\n",
       "      <td>2010-01-01</td>\n",
       "      <td>808</td>\n",
       "    </tr>\n",
       "    <tr>\n",
       "      <th>2</th>\n",
       "      <td>SatMid</td>\n",
       "      <td>2010-01-02</td>\n",
       "      <td>989</td>\n",
       "    </tr>\n",
       "    <tr>\n",
       "      <th>3</th>\n",
       "      <td>SatEve</td>\n",
       "      <td>2010-01-02</td>\n",
       "      <td>137</td>\n",
       "    </tr>\n",
       "    <tr>\n",
       "      <th>4</th>\n",
       "      <td>SunMid</td>\n",
       "      <td>2010-01-03</td>\n",
       "      <td>284</td>\n",
       "    </tr>\n",
       "  </tbody>\n",
       "</table>\n",
       "</div>"
      ],
      "text/plain": [
       "  Day_Draw       Date  Pick3\n",
       "0   FriMid 2010-01-01    391\n",
       "1   FriEve 2010-01-01    808\n",
       "2   SatMid 2010-01-02    989\n",
       "3   SatEve 2010-01-02    137\n",
       "4   SunMid 2010-01-03    284"
      ]
     },
     "execution_count": 9,
     "metadata": {},
     "output_type": "execute_result"
    }
   ],
   "source": [
    "# Damn, I'm getting good at this\n",
    "df.head()"
   ]
  },
  {
   "cell_type": "code",
   "execution_count": 10,
   "metadata": {},
   "outputs": [],
   "source": [
    "# Export our now cleaned data to csv for later processing into a larger dataset\n",
    "export_csv = df.to_csv (r'../LottoData/ProcessedData/Processed_CSV/numbers2010.csv', index = None, header=True)"
   ]
  },
  {
   "cell_type": "code",
   "execution_count": null,
   "metadata": {},
   "outputs": [],
   "source": []
  }
 ],
 "metadata": {
  "kernelspec": {
   "display_name": "Python 3",
   "language": "python",
   "name": "python3"
  },
  "language_info": {
   "codemirror_mode": {
    "name": "ipython",
    "version": 3
   },
   "file_extension": ".py",
   "mimetype": "text/x-python",
   "name": "python",
   "nbconvert_exporter": "python",
   "pygments_lexer": "ipython3",
   "version": "3.8.1"
  }
 },
 "nbformat": 4,
 "nbformat_minor": 4
}
