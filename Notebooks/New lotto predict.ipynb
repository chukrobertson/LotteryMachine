{
 "cells": [
  {
   "cell_type": "code",
   "execution_count": 129,
   "metadata": {},
   "outputs": [],
   "source": [
    "import pandas as pd\n",
    "import numpy as np\n",
    "from datetime import datetime,timedelta\n",
    "from sklearn.model_selection import train_test_split\n",
    "from sklearn.metrics import mean_squared_error\n",
    "import matplotlib.pyplot as plt\n",
    "%matplotlib inline"
   ]
  },
  {
   "cell_type": "code",
   "execution_count": 104,
   "metadata": {},
   "outputs": [
    {
     "name": "stdout",
     "output_type": "stream",
     "text": [
      "   Draw        Date  Pick3  Pick4   Date_Time  Date_Str  Date_Delta  Pick3str  \\\n",
      "0     0  2012-01-01    991    979  2012-01-01  20120101         0.0       991   \n",
      "1     1  2012-01-01    441   7036  2012-01-01  20120101         0.0       441   \n",
      "2     0  2012-01-02    516   1507  2012-01-02  20120102         1.0       516   \n",
      "3     1  2012-01-02    629    452  2012-01-02  20120102         1.0       629   \n",
      "4     0  2012-01-03    188   1857  2012-01-03  20120103         2.0       188   \n",
      "\n",
      "   Pick4str  P3B1  P3B2  P3B3  P4B1  P4B2  P4B3  P4B4  \n",
      "0       979     9     9     1     0     9     7     9  \n",
      "1      7036     4     4     1     7     0     3     6  \n",
      "2      1507     5     1     6     1     5     0     7  \n",
      "3       452     6     2     9     0     4     5     2  \n",
      "4      1857     1     8     8     1     8     5     7  \n"
     ]
    }
   ],
   "source": [
    "# County Data with fips county data for geolocation\n",
    "url = 'OhioPick3_12-19_dataset_3-28-20.csv'\n",
    "df = pd.read_csv(url)\n",
    "print(df.head())"
   ]
  },
  {
   "cell_type": "code",
   "execution_count": 105,
   "metadata": {},
   "outputs": [],
   "source": [
    "df = df.loc[:,['Draw','Date','Pick3','P3B1','P3B2','P3B3']]\n",
    "FMT = '%Y-%m-%d'\n",
    "df['Dates'] = df['Date']\n",
    "date = df['Date']\n",
    "# df['Dates'] = df['Date']\n",
    "df['Date'] = date.map(lambda x : (datetime.strptime(x, FMT) - datetime.strptime(\"2012-01-01\", FMT)).days  )"
   ]
  },
  {
   "cell_type": "code",
   "execution_count": 106,
   "metadata": {},
   "outputs": [
    {
     "data": {
      "text/html": [
       "<div>\n",
       "<style scoped>\n",
       "    .dataframe tbody tr th:only-of-type {\n",
       "        vertical-align: middle;\n",
       "    }\n",
       "\n",
       "    .dataframe tbody tr th {\n",
       "        vertical-align: top;\n",
       "    }\n",
       "\n",
       "    .dataframe thead th {\n",
       "        text-align: right;\n",
       "    }\n",
       "</style>\n",
       "<table border=\"1\" class=\"dataframe\">\n",
       "  <thead>\n",
       "    <tr style=\"text-align: right;\">\n",
       "      <th></th>\n",
       "      <th>Draw</th>\n",
       "      <th>Date</th>\n",
       "      <th>Pick3</th>\n",
       "      <th>P3B1</th>\n",
       "      <th>P3B2</th>\n",
       "      <th>P3B3</th>\n",
       "      <th>Dates</th>\n",
       "    </tr>\n",
       "  </thead>\n",
       "  <tbody>\n",
       "    <tr>\n",
       "      <th>0</th>\n",
       "      <td>0</td>\n",
       "      <td>0</td>\n",
       "      <td>991</td>\n",
       "      <td>9</td>\n",
       "      <td>9</td>\n",
       "      <td>1</td>\n",
       "      <td>2012-01-01</td>\n",
       "    </tr>\n",
       "    <tr>\n",
       "      <th>1</th>\n",
       "      <td>1</td>\n",
       "      <td>0</td>\n",
       "      <td>441</td>\n",
       "      <td>4</td>\n",
       "      <td>4</td>\n",
       "      <td>1</td>\n",
       "      <td>2012-01-01</td>\n",
       "    </tr>\n",
       "    <tr>\n",
       "      <th>2</th>\n",
       "      <td>0</td>\n",
       "      <td>1</td>\n",
       "      <td>516</td>\n",
       "      <td>5</td>\n",
       "      <td>1</td>\n",
       "      <td>6</td>\n",
       "      <td>2012-01-02</td>\n",
       "    </tr>\n",
       "    <tr>\n",
       "      <th>3</th>\n",
       "      <td>1</td>\n",
       "      <td>1</td>\n",
       "      <td>629</td>\n",
       "      <td>6</td>\n",
       "      <td>2</td>\n",
       "      <td>9</td>\n",
       "      <td>2012-01-02</td>\n",
       "    </tr>\n",
       "    <tr>\n",
       "      <th>4</th>\n",
       "      <td>0</td>\n",
       "      <td>2</td>\n",
       "      <td>188</td>\n",
       "      <td>1</td>\n",
       "      <td>8</td>\n",
       "      <td>8</td>\n",
       "      <td>2012-01-03</td>\n",
       "    </tr>\n",
       "    <tr>\n",
       "      <th>...</th>\n",
       "      <td>...</td>\n",
       "      <td>...</td>\n",
       "      <td>...</td>\n",
       "      <td>...</td>\n",
       "      <td>...</td>\n",
       "      <td>...</td>\n",
       "      <td>...</td>\n",
       "    </tr>\n",
       "    <tr>\n",
       "      <th>5837</th>\n",
       "      <td>1</td>\n",
       "      <td>2919</td>\n",
       "      <td>219</td>\n",
       "      <td>2</td>\n",
       "      <td>1</td>\n",
       "      <td>9</td>\n",
       "      <td>2019-12-29</td>\n",
       "    </tr>\n",
       "    <tr>\n",
       "      <th>5838</th>\n",
       "      <td>0</td>\n",
       "      <td>2920</td>\n",
       "      <td>354</td>\n",
       "      <td>3</td>\n",
       "      <td>5</td>\n",
       "      <td>4</td>\n",
       "      <td>2019-12-30</td>\n",
       "    </tr>\n",
       "    <tr>\n",
       "      <th>5839</th>\n",
       "      <td>1</td>\n",
       "      <td>2920</td>\n",
       "      <td>655</td>\n",
       "      <td>6</td>\n",
       "      <td>5</td>\n",
       "      <td>5</td>\n",
       "      <td>2019-12-30</td>\n",
       "    </tr>\n",
       "    <tr>\n",
       "      <th>5840</th>\n",
       "      <td>0</td>\n",
       "      <td>2921</td>\n",
       "      <td>699</td>\n",
       "      <td>6</td>\n",
       "      <td>9</td>\n",
       "      <td>9</td>\n",
       "      <td>2019-12-31</td>\n",
       "    </tr>\n",
       "    <tr>\n",
       "      <th>5841</th>\n",
       "      <td>1</td>\n",
       "      <td>2921</td>\n",
       "      <td>257</td>\n",
       "      <td>2</td>\n",
       "      <td>5</td>\n",
       "      <td>7</td>\n",
       "      <td>2019-12-31</td>\n",
       "    </tr>\n",
       "  </tbody>\n",
       "</table>\n",
       "<p>5842 rows × 7 columns</p>\n",
       "</div>"
      ],
      "text/plain": [
       "      Draw  Date  Pick3  P3B1  P3B2  P3B3       Dates\n",
       "0        0     0    991     9     9     1  2012-01-01\n",
       "1        1     0    441     4     4     1  2012-01-01\n",
       "2        0     1    516     5     1     6  2012-01-02\n",
       "3        1     1    629     6     2     9  2012-01-02\n",
       "4        0     2    188     1     8     8  2012-01-03\n",
       "...    ...   ...    ...   ...   ...   ...         ...\n",
       "5837     1  2919    219     2     1     9  2019-12-29\n",
       "5838     0  2920    354     3     5     4  2019-12-30\n",
       "5839     1  2920    655     6     5     5  2019-12-30\n",
       "5840     0  2921    699     6     9     9  2019-12-31\n",
       "5841     1  2921    257     2     5     7  2019-12-31\n",
       "\n",
       "[5842 rows x 7 columns]"
      ]
     },
     "execution_count": 106,
     "metadata": {},
     "output_type": "execute_result"
    }
   ],
   "source": [
    "df"
   ]
  },
  {
   "cell_type": "code",
   "execution_count": 133,
   "metadata": {},
   "outputs": [
    {
     "name": "stdout",
     "output_type": "stream",
     "text": [
      "[[257.   2.   5.   7.]]\n"
     ]
    }
   ],
   "source": [
    "features = ['Draw','Date'] \n",
    "target = ['Pick3','P3B1','P3B2','P3B3']\n",
    "\n",
    "# Fit model\n",
    "from sklearn.tree import DecisionTreeRegressor\n",
    "model = DecisionTreeRegressor(criterion='mae') # {“mse”, “friedman_mse”, “mae”}, default=”mse”\n",
    "model.fit(df[features],df[target])\n",
    "print(model.predict([[1,2925]]))# Next Drawing "
   ]
  },
  {
   "cell_type": "code",
   "execution_count": 108,
   "metadata": {},
   "outputs": [
    {
     "name": "stdout",
     "output_type": "stream",
     "text": [
      "Pick 3 ball one\n",
      "2\n",
      "Pick 3 ball two\n",
      "2\n",
      "Pick 3 ball three\n",
      "5\n",
      "Most picked Pick 3 number\n",
      "125\n"
     ]
    }
   ],
   "source": [
    "print('Pick 3 ball one')\n",
    "# print(df.P3B1.value_counts())\n",
    "print(df.P3B1.value_counts().idxmax())\n",
    "print('Pick 3 ball two')\n",
    "# print(df.P3B2.value_counts())\n",
    "print(df.P3B2.value_counts().idxmax())\n",
    "print('Pick 3 ball three')\n",
    "# print(df.P3B3.value_counts())\n",
    "print(df.P3B3.value_counts().idxmax())\n",
    "print(\"Most picked Pick 3 number\")\n",
    "print(df.Pick3.value_counts().idxmax())"
   ]
  },
  {
   "cell_type": "code",
   "execution_count": 30,
   "metadata": {},
   "outputs": [],
   "source": [
    "tmp = []\n",
    "for i in df.Pick3:\n",
    "    tmp.append(i)"
   ]
  },
  {
   "cell_type": "code",
   "execution_count": 41,
   "metadata": {
    "scrolled": false
   },
   "outputs": [
    {
     "name": "stdout",
     "output_type": "stream",
     "text": [
      "7\n"
     ]
    }
   ],
   "source": [
    "tmp2 = []\n",
    "for j in tmp:\n",
    "    if j == 25:\n",
    "        tmp2.append(j)\n",
    "#         print(\"yes\")\n",
    "    else:\n",
    "        pass\n",
    "\n",
    "print(len(tmp2))"
   ]
  },
  {
   "cell_type": "code",
   "execution_count": 46,
   "metadata": {},
   "outputs": [
    {
     "name": "stdout",
     "output_type": "stream",
     "text": [
      "625\n"
     ]
    }
   ],
   "source": [
    "tmp3 = []\n",
    "for k in df.P3B1:\n",
    "    if k == 2:\n",
    "        tmp3.append(k)\n",
    "    else:\n",
    "        pass\n",
    "    \n",
    "print(len(tmp3))"
   ]
  },
  {
   "cell_type": "code",
   "execution_count": null,
   "metadata": {},
   "outputs": [],
   "source": []
  },
  {
   "cell_type": "code",
   "execution_count": null,
   "metadata": {},
   "outputs": [],
   "source": []
  },
  {
   "cell_type": "code",
   "execution_count": 134,
   "metadata": {},
   "outputs": [],
   "source": [
    "X_train, X_test, y_train, y_test = train_test_split(df, df, test_size=0.5, random_state=2)"
   ]
  },
  {
   "cell_type": "code",
   "execution_count": 135,
   "metadata": {},
   "outputs": [
    {
     "name": "stdout",
     "output_type": "stream",
     "text": [
      "333.3420061622732\n",
      "333.3420061622732\n"
     ]
    }
   ],
   "source": [
    "# from sklearn.neighbors import KNeighborsRegressor\n",
    "from sklearn.metrics import mean_absolute_error\n",
    "print(mean_absolute_error(X_train['Pick3'], y_test['Pick3']))\n",
    "print(mean_absolute_error(y_train['Pick3'], X_test['Pick3']))"
   ]
  },
  {
   "cell_type": "code",
   "execution_count": 171,
   "metadata": {},
   "outputs": [
    {
     "name": "stdout",
     "output_type": "stream",
     "text": [
      "[[  1. 655.   6.   5.   5.]]\n"
     ]
    }
   ],
   "source": [
    "features = ['Draw','Date'] \n",
    "target = ['Draw','Pick3','P3B1','P3B2','P3B3']\n",
    "\n",
    "from sklearn.neighbors import KNeighborsRegressor\n",
    "model = KNeighborsRegressor(n_neighbors=int(1))\n",
    "model.fit(df[features], df[target])\n",
    "print(model.predict([[1,2920]]))\n"
   ]
  },
  {
   "cell_type": "code",
   "execution_count": 154,
   "metadata": {},
   "outputs": [
    {
     "data": {
      "text/html": [
       "<div>\n",
       "<style scoped>\n",
       "    .dataframe tbody tr th:only-of-type {\n",
       "        vertical-align: middle;\n",
       "    }\n",
       "\n",
       "    .dataframe tbody tr th {\n",
       "        vertical-align: top;\n",
       "    }\n",
       "\n",
       "    .dataframe thead th {\n",
       "        text-align: right;\n",
       "    }\n",
       "</style>\n",
       "<table border=\"1\" class=\"dataframe\">\n",
       "  <thead>\n",
       "    <tr style=\"text-align: right;\">\n",
       "      <th></th>\n",
       "      <th>Draw</th>\n",
       "      <th>Date</th>\n",
       "      <th>Pick3</th>\n",
       "      <th>P3B1</th>\n",
       "      <th>P3B2</th>\n",
       "      <th>P3B3</th>\n",
       "      <th>Dates</th>\n",
       "    </tr>\n",
       "  </thead>\n",
       "  <tbody>\n",
       "    <tr>\n",
       "      <th>0</th>\n",
       "      <td>0</td>\n",
       "      <td>0</td>\n",
       "      <td>991</td>\n",
       "      <td>9</td>\n",
       "      <td>9</td>\n",
       "      <td>1</td>\n",
       "      <td>2012-01-01</td>\n",
       "    </tr>\n",
       "    <tr>\n",
       "      <th>1</th>\n",
       "      <td>1</td>\n",
       "      <td>0</td>\n",
       "      <td>441</td>\n",
       "      <td>4</td>\n",
       "      <td>4</td>\n",
       "      <td>1</td>\n",
       "      <td>2012-01-01</td>\n",
       "    </tr>\n",
       "    <tr>\n",
       "      <th>2</th>\n",
       "      <td>0</td>\n",
       "      <td>1</td>\n",
       "      <td>516</td>\n",
       "      <td>5</td>\n",
       "      <td>1</td>\n",
       "      <td>6</td>\n",
       "      <td>2012-01-02</td>\n",
       "    </tr>\n",
       "    <tr>\n",
       "      <th>3</th>\n",
       "      <td>1</td>\n",
       "      <td>1</td>\n",
       "      <td>629</td>\n",
       "      <td>6</td>\n",
       "      <td>2</td>\n",
       "      <td>9</td>\n",
       "      <td>2012-01-02</td>\n",
       "    </tr>\n",
       "    <tr>\n",
       "      <th>4</th>\n",
       "      <td>0</td>\n",
       "      <td>2</td>\n",
       "      <td>188</td>\n",
       "      <td>1</td>\n",
       "      <td>8</td>\n",
       "      <td>8</td>\n",
       "      <td>2012-01-03</td>\n",
       "    </tr>\n",
       "    <tr>\n",
       "      <th>...</th>\n",
       "      <td>...</td>\n",
       "      <td>...</td>\n",
       "      <td>...</td>\n",
       "      <td>...</td>\n",
       "      <td>...</td>\n",
       "      <td>...</td>\n",
       "      <td>...</td>\n",
       "    </tr>\n",
       "    <tr>\n",
       "      <th>5837</th>\n",
       "      <td>1</td>\n",
       "      <td>2919</td>\n",
       "      <td>219</td>\n",
       "      <td>2</td>\n",
       "      <td>1</td>\n",
       "      <td>9</td>\n",
       "      <td>2019-12-29</td>\n",
       "    </tr>\n",
       "    <tr>\n",
       "      <th>5838</th>\n",
       "      <td>0</td>\n",
       "      <td>2920</td>\n",
       "      <td>354</td>\n",
       "      <td>3</td>\n",
       "      <td>5</td>\n",
       "      <td>4</td>\n",
       "      <td>2019-12-30</td>\n",
       "    </tr>\n",
       "    <tr>\n",
       "      <th>5839</th>\n",
       "      <td>1</td>\n",
       "      <td>2920</td>\n",
       "      <td>655</td>\n",
       "      <td>6</td>\n",
       "      <td>5</td>\n",
       "      <td>5</td>\n",
       "      <td>2019-12-30</td>\n",
       "    </tr>\n",
       "    <tr>\n",
       "      <th>5840</th>\n",
       "      <td>0</td>\n",
       "      <td>2921</td>\n",
       "      <td>699</td>\n",
       "      <td>6</td>\n",
       "      <td>9</td>\n",
       "      <td>9</td>\n",
       "      <td>2019-12-31</td>\n",
       "    </tr>\n",
       "    <tr>\n",
       "      <th>5841</th>\n",
       "      <td>1</td>\n",
       "      <td>2921</td>\n",
       "      <td>257</td>\n",
       "      <td>2</td>\n",
       "      <td>5</td>\n",
       "      <td>7</td>\n",
       "      <td>2019-12-31</td>\n",
       "    </tr>\n",
       "  </tbody>\n",
       "</table>\n",
       "<p>5842 rows × 7 columns</p>\n",
       "</div>"
      ],
      "text/plain": [
       "      Draw  Date  Pick3  P3B1  P3B2  P3B3       Dates\n",
       "0        0     0    991     9     9     1  2012-01-01\n",
       "1        1     0    441     4     4     1  2012-01-01\n",
       "2        0     1    516     5     1     6  2012-01-02\n",
       "3        1     1    629     6     2     9  2012-01-02\n",
       "4        0     2    188     1     8     8  2012-01-03\n",
       "...    ...   ...    ...   ...   ...   ...         ...\n",
       "5837     1  2919    219     2     1     9  2019-12-29\n",
       "5838     0  2920    354     3     5     4  2019-12-30\n",
       "5839     1  2920    655     6     5     5  2019-12-30\n",
       "5840     0  2921    699     6     9     9  2019-12-31\n",
       "5841     1  2921    257     2     5     7  2019-12-31\n",
       "\n",
       "[5842 rows x 7 columns]"
      ]
     },
     "execution_count": 154,
     "metadata": {},
     "output_type": "execute_result"
    }
   ],
   "source": [
    "df"
   ]
  },
  {
   "cell_type": "code",
   "execution_count": null,
   "metadata": {},
   "outputs": [],
   "source": []
  },
  {
   "cell_type": "code",
   "execution_count": null,
   "metadata": {},
   "outputs": [],
   "source": []
  },
  {
   "cell_type": "code",
   "execution_count": null,
   "metadata": {},
   "outputs": [],
   "source": []
  },
  {
   "cell_type": "code",
   "execution_count": null,
   "metadata": {},
   "outputs": [],
   "source": []
  },
  {
   "cell_type": "code",
   "execution_count": null,
   "metadata": {},
   "outputs": [],
   "source": []
  },
  {
   "cell_type": "code",
   "execution_count": null,
   "metadata": {},
   "outputs": [],
   "source": []
  },
  {
   "cell_type": "code",
   "execution_count": null,
   "metadata": {},
   "outputs": [],
   "source": []
  }
 ],
 "metadata": {
  "kernelspec": {
   "display_name": "Python 3",
   "language": "python",
   "name": "python3"
  },
  "language_info": {
   "codemirror_mode": {
    "name": "ipython",
    "version": 3
   },
   "file_extension": ".py",
   "mimetype": "text/x-python",
   "name": "python",
   "nbconvert_exporter": "python",
   "pygments_lexer": "ipython3",
   "version": "3.7.6"
  }
 },
 "nbformat": 4,
 "nbformat_minor": 4
}
