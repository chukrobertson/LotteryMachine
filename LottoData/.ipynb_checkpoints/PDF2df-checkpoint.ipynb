{
 "cells": [
  {
   "cell_type": "code",
   "execution_count": 2,
   "metadata": {},
   "outputs": [
    {
     "name": "stdout",
     "output_type": "stream",
     "text": [
      "Collecting tabula-py\n",
      "\u001b[?25l  Downloading https://files.pythonhosted.org/packages/b7/7e/9e7fff31bc80c300479a4c0bdd8e15298bf85f5a3fba05b2f7268f993456/tabula_py-2.0.4-py3-none-any.whl (10.4MB)\n",
      "\u001b[K    100% |████████████████████████████████| 10.4MB 150kB/s eta 0:00:01\n",
      "\u001b[?25hRequirement already satisfied: distro in /usr/lib/python3/dist-packages (from tabula-py) (1.3.0)\n",
      "Requirement already satisfied: numpy in /usr/lib/python3/dist-packages (from tabula-py) (1.17.4)\n",
      "Collecting pandas (from tabula-py)\n",
      "\u001b[?25l  Downloading https://files.pythonhosted.org/packages/d2/91/a1b72f7041c5ee2d307cb6dd57fe5c6ed7bf54e248d59e41b31aceff00e2/pandas-1.0.1-cp38-cp38-manylinux1_x86_64.whl (9.9MB)\n",
      "\u001b[K    100% |████████████████████████████████| 10.0MB 154kB/s ta 0:00:01\n",
      "\u001b[?25hRequirement already satisfied: python-dateutil>=2.6.1 in /home/chuk/.local/lib/python3.8/site-packages (from pandas->tabula-py) (2.8.1)\n",
      "Collecting pytz>=2017.2 (from pandas->tabula-py)\n",
      "  Using cached https://files.pythonhosted.org/packages/e7/f9/f0b53f88060247251bf481fa6ea62cd0d25bf1b11a87888e53ce5b7c8ad2/pytz-2019.3-py2.py3-none-any.whl\n",
      "Requirement already satisfied: six>=1.5 in /usr/lib/python3/dist-packages (from python-dateutil>=2.6.1->pandas->tabula-py) (1.13.0)\n",
      "Installing collected packages: pytz, pandas, tabula-py\n",
      "Successfully installed pandas-1.0.1 pytz-2019.3 tabula-py-2.0.4\n"
     ]
    }
   ],
   "source": [
    "# Install a pip package in the current Jupyter kernel\n",
    "import sys\n",
    "# !{sys.executable} -m pip install tabula-py"
   ]
  },
  {
   "cell_type": "code",
   "execution_count": 41,
   "metadata": {},
   "outputs": [],
   "source": [
    "import tabula\n",
    "import numpy as np\n",
    "import pandas as pd"
   ]
  },
  {
   "cell_type": "code",
   "execution_count": 42,
   "metadata": {},
   "outputs": [],
   "source": [
    "# Path to the PDF to be read in\n",
    "inPDF_Path = \"UnprocessedData/PDFs/numbers2010.pdf\""
   ]
  },
  {
   "cell_type": "code",
   "execution_count": 43,
   "metadata": {},
   "outputs": [],
   "source": [
    "# Reading the PDF into a list\n",
    "pdf = tabula.read_pdf(inPDF_Path, encoding='utf-8', pages='all', stream=True)[0]\n",
    "# Converting list to dataframe\n",
    "df = pd.DataFrame(pdf) "
   ]
  },
  {
   "cell_type": "code",
   "execution_count": 44,
   "metadata": {},
   "outputs": [],
   "source": [
    "# Rename and drop uneeded columns for individual dataframes\n",
    "df.columns = ['Day_Draw','Date','Pick3','Pick4','Classic_Lotto','Rolling_Cash_5','Mega_Millions','Kicker','Powerball','Ten_OH']\n",
    "df.drop(['Pick4','Classic_Lotto','Rolling_Cash_5','Mega_Millions','Kicker','Powerball','Ten_OH'], axis=1, inplace=True)\n",
    "# Converting the Date column into something useable\n",
    "df['Date'] = pd.to_datetime(df.Date)"
   ]
  },
  {
   "cell_type": "code",
   "execution_count": 45,
   "metadata": {},
   "outputs": [
    {
     "data": {
      "text/html": [
       "<div>\n",
       "<style scoped>\n",
       "    .dataframe tbody tr th:only-of-type {\n",
       "        vertical-align: middle;\n",
       "    }\n",
       "\n",
       "    .dataframe tbody tr th {\n",
       "        vertical-align: top;\n",
       "    }\n",
       "\n",
       "    .dataframe thead th {\n",
       "        text-align: right;\n",
       "    }\n",
       "</style>\n",
       "<table border=\"1\" class=\"dataframe\">\n",
       "  <thead>\n",
       "    <tr style=\"text-align: right;\">\n",
       "      <th></th>\n",
       "      <th>Day_Draw</th>\n",
       "      <th>Date</th>\n",
       "      <th>Pick3</th>\n",
       "    </tr>\n",
       "  </thead>\n",
       "  <tbody>\n",
       "    <tr>\n",
       "      <th>0</th>\n",
       "      <td>FriMid</td>\n",
       "      <td>2010-01-01</td>\n",
       "      <td>391</td>\n",
       "    </tr>\n",
       "    <tr>\n",
       "      <th>1</th>\n",
       "      <td>FriEve</td>\n",
       "      <td>2010-01-01</td>\n",
       "      <td>808</td>\n",
       "    </tr>\n",
       "    <tr>\n",
       "      <th>2</th>\n",
       "      <td>SatMid</td>\n",
       "      <td>2010-01-02</td>\n",
       "      <td>989</td>\n",
       "    </tr>\n",
       "    <tr>\n",
       "      <th>3</th>\n",
       "      <td>SatEve</td>\n",
       "      <td>2010-01-02</td>\n",
       "      <td>137</td>\n",
       "    </tr>\n",
       "    <tr>\n",
       "      <th>4</th>\n",
       "      <td>SunMid</td>\n",
       "      <td>2010-01-03</td>\n",
       "      <td>284</td>\n",
       "    </tr>\n",
       "  </tbody>\n",
       "</table>\n",
       "</div>"
      ],
      "text/plain": [
       "  Day_Draw       Date  Pick3\n",
       "0   FriMid 2010-01-01    391\n",
       "1   FriEve 2010-01-01    808\n",
       "2   SatMid 2010-01-02    989\n",
       "3   SatEve 2010-01-02    137\n",
       "4   SunMid 2010-01-03    284"
      ]
     },
     "execution_count": 45,
     "metadata": {},
     "output_type": "execute_result"
    }
   ],
   "source": [
    "# Damn, I'm getting good at this\n",
    "df.head()"
   ]
  },
  {
   "cell_type": "code",
   "execution_count": 46,
   "metadata": {},
   "outputs": [],
   "source": [
    "# Export our now cleaned data to csv for later processing into a larger dataset\n",
    "export_csv = df.to_csv (r'ProcessedData/Processed_CSV/numbers2010.csv', index = None, header=True)"
   ]
  },
  {
   "cell_type": "code",
   "execution_count": null,
   "metadata": {},
   "outputs": [],
   "source": []
  }
 ],
 "metadata": {
  "kernelspec": {
   "display_name": "Python 3",
   "language": "python",
   "name": "python3"
  },
  "language_info": {
   "codemirror_mode": {
    "name": "ipython",
    "version": 3
   },
   "file_extension": ".py",
   "mimetype": "text/x-python",
   "name": "python",
   "nbconvert_exporter": "python",
   "pygments_lexer": "ipython3",
   "version": "3.8.1"
  }
 },
 "nbformat": 4,
 "nbformat_minor": 4
}
