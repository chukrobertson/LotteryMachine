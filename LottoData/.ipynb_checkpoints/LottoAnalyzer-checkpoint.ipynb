{
 "cells": [
  {
   "cell_type": "code",
   "execution_count": null,
   "metadata": {},
   "outputs": [],
   "source": [
    "# Install a pip package in the current Jupyter kernel\n",
    "import sys\n",
    "# !{sys.executable} -m pip install seaborn"
   ]
  },
  {
   "cell_type": "code",
   "execution_count": 1,
   "metadata": {},
   "outputs": [],
   "source": [
    "import pandas as pd\n",
    "import numpy as np\n",
    "import matplotlib.pyplot as plt\n",
    "plt.rcParams['figure.figsize'] = [15, 10]"
   ]
  },
  {
   "cell_type": "code",
   "execution_count": 2,
   "metadata": {},
   "outputs": [],
   "source": [
    "# Load all csv into individual dataframes\n",
    "# The goal is to cut the columns down to Day_Draw, Date, and Pick3, then combine all 9 into one df\n",
    "# then combine all 9 into one df for further cleaning and ultimately a dataset to train a prediction model.\n",
    "df2019 = pd.read_csv(\"WinningNumberArchive_2019.csv\")\n",
    "df2018 = pd.read_csv(\"WinningNumberArchive_2018.csv\")\n",
    "df2017 = pd.read_csv(\"WinningNumberArchive_2017.csv\")\n",
    "df2016 = pd.read_csv(\"WinningNumberArchive_2016.csv\")\n",
    "df2015 = pd.read_csv(\"WinningNumberArchive_2015.csv\")\n",
    "df2014 = pd.read_csv(\"WinningNumberArchive_2014.csv\")\n",
    "df2013 = pd.read_csv(\"WinningNumberArchive_2013.csv\")\n",
    "df2012 = pd.read_csv(\"WinningNumberArchive_2012.csv\")\n",
    "df2011 = pd.read_csv(\"WinningNumberArchive_2011.csv\")\n",
    "\n",
    "# Let's simplify our lives\n",
    "df = pd.concat([df2019,df2018,df2017,df2016,df2015,df2014,df2013,df2012,df2011])"
   ]
  },
  {
   "cell_type": "code",
   "execution_count": 3,
   "metadata": {},
   "outputs": [],
   "source": [
    "# Rename and drop uneeded columns for individual dataframes\n",
    "df.columns = ['Day_Draw','Date','Pick3','Pick4','Pick5','Classic_Lotto','Kicker','Rolling_Cash_5','Mega_Millions','Powerball','Lucky_For_Life']\n",
    "df.drop(['Pick4','Pick5','Classic_Lotto','Kicker','Rolling_Cash_5','Mega_Millions','Powerball','Lucky_For_Life'], axis=1, inplace=True)"
   ]
  },
  {
   "cell_type": "code",
   "execution_count": 4,
   "metadata": {},
   "outputs": [
    {
     "data": {
      "text/html": [
       "<div>\n",
       "<style scoped>\n",
       "    .dataframe tbody tr th:only-of-type {\n",
       "        vertical-align: middle;\n",
       "    }\n",
       "\n",
       "    .dataframe tbody tr th {\n",
       "        vertical-align: top;\n",
       "    }\n",
       "\n",
       "    .dataframe thead th {\n",
       "        text-align: right;\n",
       "    }\n",
       "</style>\n",
       "<table border=\"1\" class=\"dataframe\">\n",
       "  <thead>\n",
       "    <tr style=\"text-align: right;\">\n",
       "      <th></th>\n",
       "      <th>Day_Draw</th>\n",
       "      <th>Date</th>\n",
       "      <th>Pick3</th>\n",
       "    </tr>\n",
       "  </thead>\n",
       "  <tbody>\n",
       "    <tr>\n",
       "      <th>0</th>\n",
       "      <td>TUE - MID</td>\n",
       "      <td>1/1/2019</td>\n",
       "      <td>444</td>\n",
       "    </tr>\n",
       "    <tr>\n",
       "      <th>1</th>\n",
       "      <td>TUE - EVE</td>\n",
       "      <td>1/1/2019</td>\n",
       "      <td>485</td>\n",
       "    </tr>\n",
       "    <tr>\n",
       "      <th>2</th>\n",
       "      <td>WED - MID</td>\n",
       "      <td>1/2/2019</td>\n",
       "      <td>103</td>\n",
       "    </tr>\n",
       "    <tr>\n",
       "      <th>3</th>\n",
       "      <td>WED - EVE</td>\n",
       "      <td>1/2/2019</td>\n",
       "      <td>485</td>\n",
       "    </tr>\n",
       "    <tr>\n",
       "      <th>4</th>\n",
       "      <td>THU - MID</td>\n",
       "      <td>1/3/2019</td>\n",
       "      <td>309</td>\n",
       "    </tr>\n",
       "  </tbody>\n",
       "</table>\n",
       "</div>"
      ],
      "text/plain": [
       "    Day_Draw       Date  Pick3\n",
       "0  TUE - MID   1/1/2019    444\n",
       "1  TUE - EVE   1/1/2019    485\n",
       "2  WED - MID   1/2/2019    103\n",
       "3  WED - EVE   1/2/2019    485\n",
       "4  THU - MID   1/3/2019    309"
      ]
     },
     "execution_count": 4,
     "metadata": {},
     "output_type": "execute_result"
    }
   ],
   "source": [
    "# Checking that it worked. It did!\n",
    "df.head()"
   ]
  },
  {
   "cell_type": "code",
   "execution_count": 5,
   "metadata": {},
   "outputs": [
    {
     "name": "stdout",
     "output_type": "stream",
     "text": [
      "<class 'pandas.core.frame.DataFrame'>\n",
      "Int64Index: 6572 entries, 0 to 729\n",
      "Data columns (total 3 columns):\n",
      " #   Column    Non-Null Count  Dtype \n",
      "---  ------    --------------  ----- \n",
      " 0   Day_Draw  6572 non-null   object\n",
      " 1   Date      6572 non-null   object\n",
      " 2   Pick3     6572 non-null   int64 \n",
      "dtypes: int64(1), object(2)\n",
      "memory usage: 205.4+ KB\n"
     ]
    }
   ],
   "source": [
    "df.info()"
   ]
  },
  {
   "cell_type": "code",
   "execution_count": 6,
   "metadata": {},
   "outputs": [],
   "source": [
    "# Converting the Date column into something useable\n",
    "df['Date'] = pd.to_datetime(df.Date)"
   ]
  },
  {
   "cell_type": "code",
   "execution_count": 7,
   "metadata": {},
   "outputs": [
    {
     "name": "stdout",
     "output_type": "stream",
     "text": [
      "<class 'pandas.core.frame.DataFrame'>\n",
      "Int64Index: 6572 entries, 0 to 729\n",
      "Data columns (total 3 columns):\n",
      " #   Column    Non-Null Count  Dtype         \n",
      "---  ------    --------------  -----         \n",
      " 0   Day_Draw  6572 non-null   object        \n",
      " 1   Date      6572 non-null   datetime64[ns]\n",
      " 2   Pick3     6572 non-null   int64         \n",
      "dtypes: datetime64[ns](1), int64(1), object(1)\n",
      "memory usage: 205.4+ KB\n"
     ]
    }
   ],
   "source": [
    "df.info()"
   ]
  },
  {
   "cell_type": "code",
   "execution_count": 8,
   "metadata": {},
   "outputs": [
    {
     "data": {
      "text/html": [
       "<div>\n",
       "<style scoped>\n",
       "    .dataframe tbody tr th:only-of-type {\n",
       "        vertical-align: middle;\n",
       "    }\n",
       "\n",
       "    .dataframe tbody tr th {\n",
       "        vertical-align: top;\n",
       "    }\n",
       "\n",
       "    .dataframe thead th {\n",
       "        text-align: right;\n",
       "    }\n",
       "</style>\n",
       "<table border=\"1\" class=\"dataframe\">\n",
       "  <thead>\n",
       "    <tr style=\"text-align: right;\">\n",
       "      <th></th>\n",
       "      <th>Day_Draw</th>\n",
       "      <th>Date</th>\n",
       "      <th>Pick3</th>\n",
       "    </tr>\n",
       "  </thead>\n",
       "  <tbody>\n",
       "    <tr>\n",
       "      <th>0</th>\n",
       "      <td>TUE - MID</td>\n",
       "      <td>2019-01-01</td>\n",
       "      <td>444</td>\n",
       "    </tr>\n",
       "    <tr>\n",
       "      <th>1</th>\n",
       "      <td>TUE - EVE</td>\n",
       "      <td>2019-01-01</td>\n",
       "      <td>485</td>\n",
       "    </tr>\n",
       "    <tr>\n",
       "      <th>2</th>\n",
       "      <td>WED - MID</td>\n",
       "      <td>2019-01-02</td>\n",
       "      <td>103</td>\n",
       "    </tr>\n",
       "    <tr>\n",
       "      <th>3</th>\n",
       "      <td>WED - EVE</td>\n",
       "      <td>2019-01-02</td>\n",
       "      <td>485</td>\n",
       "    </tr>\n",
       "    <tr>\n",
       "      <th>4</th>\n",
       "      <td>THU - MID</td>\n",
       "      <td>2019-01-03</td>\n",
       "      <td>309</td>\n",
       "    </tr>\n",
       "  </tbody>\n",
       "</table>\n",
       "</div>"
      ],
      "text/plain": [
       "    Day_Draw       Date  Pick3\n",
       "0  TUE - MID 2019-01-01    444\n",
       "1  TUE - EVE 2019-01-01    485\n",
       "2  WED - MID 2019-01-02    103\n",
       "3  WED - EVE 2019-01-02    485\n",
       "4  THU - MID 2019-01-03    309"
      ]
     },
     "execution_count": 8,
     "metadata": {},
     "output_type": "execute_result"
    }
   ],
   "source": [
    "df.head()"
   ]
  },
  {
   "cell_type": "code",
   "execution_count": 9,
   "metadata": {},
   "outputs": [
    {
     "data": {
      "text/plain": [
       "16"
      ]
     },
     "execution_count": 9,
     "metadata": {},
     "output_type": "execute_result"
    }
   ],
   "source": [
    "df['Pick3'].value_counts().max()"
   ]
  },
  {
   "cell_type": "code",
   "execution_count": 10,
   "metadata": {},
   "outputs": [
    {
     "data": {
      "text/plain": [
       "445"
      ]
     },
     "execution_count": 10,
     "metadata": {},
     "output_type": "execute_result"
    }
   ],
   "source": [
    "df['Pick3'].value_counts().idxmax()"
   ]
  },
  {
   "cell_type": "code",
   "execution_count": 19,
   "metadata": {},
   "outputs": [
    {
     "data": {
      "text/plain": [
       "14.768539325842697"
      ]
     },
     "execution_count": 19,
     "metadata": {},
     "output_type": "execute_result"
    }
   ],
   "source": [
    "6572/445"
   ]
  },
  {
   "cell_type": "code",
   "execution_count": 18,
   "metadata": {},
   "outputs": [],
   "source": [
    "export_csv = df.to_csv (r'2011-2019Pick3.csv', index = None, header=True)"
   ]
  }
 ],
 "metadata": {
  "kernelspec": {
   "display_name": "Python 3",
   "language": "python",
   "name": "python3"
  },
  "language_info": {
   "codemirror_mode": {
    "name": "ipython",
    "version": 3
   },
   "file_extension": ".py",
   "mimetype": "text/x-python",
   "name": "python",
   "nbconvert_exporter": "python",
   "pygments_lexer": "ipython3",
   "version": "3.8.1"
  }
 },
 "nbformat": 4,
 "nbformat_minor": 4
}
